{
 "cells": [
  {
   "cell_type": "markdown",
   "metadata": {},
   "source": [
    "<h1> DATA PRE-PROCESSING </h1>"
   ]
  },
  {
   "cell_type": "code",
   "execution_count": 117,
   "metadata": {},
   "outputs": [],
   "source": [
    "import pandas as pd\n",
    "import numpy as np\n",
    "import matplotlib.pyplot as plt\n",
    "import seaborn as sns\n",
    "from scipy import stats as stats\n",
    "import warnings\n",
    "warnings.filterwarnings('ignore')"
   ]
  },
  {
   "cell_type": "code",
   "execution_count": 54,
   "metadata": {},
   "outputs": [],
   "source": [
    "cars = pd.read_csv('imports-85.csv', header = None)"
   ]
  },
  {
   "cell_type": "code",
   "execution_count": 55,
   "metadata": {},
   "outputs": [],
   "source": [
    "headers = [\"symboling\", \"normalized-losses\", \"make\", \"fuel-type\", \"aspiration\", \"num-of-doors\", \"body-style\", \"drive-wheels\", \"engine-location\",\n",
    " \"wheel-base\", \"length\", \"width\", \"height\", \"curb-weight\", \"engine-type\", \"num-of-cylinders\", \"engine-size\", \"fuel-system\", \"bore\",\n",
    " \"stroke\", \"compression-ratio\", \"horsepower\", \"peak-rpm\", \"city-mpg\", \"highway-mpg\", \"price\"]"
   ]
  },
  {
   "cell_type": "code",
   "execution_count": 56,
   "metadata": {},
   "outputs": [],
   "source": [
    "cars.columns = headers"
   ]
  },
  {
   "cell_type": "code",
   "execution_count": 57,
   "metadata": {},
   "outputs": [
    {
     "data": {
      "text/plain": [
       "symboling              int64\n",
       "normalized-losses     object\n",
       "make                  object\n",
       "fuel-type             object\n",
       "aspiration            object\n",
       "num-of-doors          object\n",
       "body-style            object\n",
       "drive-wheels          object\n",
       "engine-location       object\n",
       "wheel-base           float64\n",
       "length               float64\n",
       "width                float64\n",
       "height               float64\n",
       "curb-weight            int64\n",
       "engine-type           object\n",
       "num-of-cylinders      object\n",
       "engine-size            int64\n",
       "fuel-system           object\n",
       "bore                  object\n",
       "stroke                object\n",
       "compression-ratio    float64\n",
       "horsepower            object\n",
       "peak-rpm              object\n",
       "city-mpg               int64\n",
       "highway-mpg            int64\n",
       "price                 object\n",
       "dtype: object"
      ]
     },
     "execution_count": 57,
     "metadata": {},
     "output_type": "execute_result"
    }
   ],
   "source": [
    "cars.dtypes"
   ]
  },
  {
   "cell_type": "code",
   "execution_count": 58,
   "metadata": {},
   "outputs": [
    {
     "data": {
      "text/html": [
       "<div>\n",
       "<style scoped>\n",
       "    .dataframe tbody tr th:only-of-type {\n",
       "        vertical-align: middle;\n",
       "    }\n",
       "\n",
       "    .dataframe tbody tr th {\n",
       "        vertical-align: top;\n",
       "    }\n",
       "\n",
       "    .dataframe thead th {\n",
       "        text-align: right;\n",
       "    }\n",
       "</style>\n",
       "<table border=\"1\" class=\"dataframe\">\n",
       "  <thead>\n",
       "    <tr style=\"text-align: right;\">\n",
       "      <th></th>\n",
       "      <th>symboling</th>\n",
       "      <th>normalized-losses</th>\n",
       "      <th>make</th>\n",
       "      <th>fuel-type</th>\n",
       "      <th>aspiration</th>\n",
       "      <th>num-of-doors</th>\n",
       "      <th>body-style</th>\n",
       "      <th>drive-wheels</th>\n",
       "      <th>engine-location</th>\n",
       "      <th>wheel-base</th>\n",
       "      <th>...</th>\n",
       "      <th>engine-size</th>\n",
       "      <th>fuel-system</th>\n",
       "      <th>bore</th>\n",
       "      <th>stroke</th>\n",
       "      <th>compression-ratio</th>\n",
       "      <th>horsepower</th>\n",
       "      <th>peak-rpm</th>\n",
       "      <th>city-mpg</th>\n",
       "      <th>highway-mpg</th>\n",
       "      <th>price</th>\n",
       "    </tr>\n",
       "  </thead>\n",
       "  <tbody>\n",
       "    <tr>\n",
       "      <th>count</th>\n",
       "      <td>205.000000</td>\n",
       "      <td>205</td>\n",
       "      <td>205</td>\n",
       "      <td>205</td>\n",
       "      <td>205</td>\n",
       "      <td>205</td>\n",
       "      <td>205</td>\n",
       "      <td>205</td>\n",
       "      <td>205</td>\n",
       "      <td>205.000000</td>\n",
       "      <td>...</td>\n",
       "      <td>205.000000</td>\n",
       "      <td>205</td>\n",
       "      <td>205</td>\n",
       "      <td>205</td>\n",
       "      <td>205.000000</td>\n",
       "      <td>205</td>\n",
       "      <td>205</td>\n",
       "      <td>205.000000</td>\n",
       "      <td>205.000000</td>\n",
       "      <td>205</td>\n",
       "    </tr>\n",
       "    <tr>\n",
       "      <th>unique</th>\n",
       "      <td>NaN</td>\n",
       "      <td>52</td>\n",
       "      <td>22</td>\n",
       "      <td>2</td>\n",
       "      <td>2</td>\n",
       "      <td>3</td>\n",
       "      <td>5</td>\n",
       "      <td>3</td>\n",
       "      <td>2</td>\n",
       "      <td>NaN</td>\n",
       "      <td>...</td>\n",
       "      <td>NaN</td>\n",
       "      <td>8</td>\n",
       "      <td>39</td>\n",
       "      <td>37</td>\n",
       "      <td>NaN</td>\n",
       "      <td>60</td>\n",
       "      <td>24</td>\n",
       "      <td>NaN</td>\n",
       "      <td>NaN</td>\n",
       "      <td>187</td>\n",
       "    </tr>\n",
       "    <tr>\n",
       "      <th>top</th>\n",
       "      <td>NaN</td>\n",
       "      <td>?</td>\n",
       "      <td>toyota</td>\n",
       "      <td>gas</td>\n",
       "      <td>std</td>\n",
       "      <td>four</td>\n",
       "      <td>sedan</td>\n",
       "      <td>fwd</td>\n",
       "      <td>front</td>\n",
       "      <td>NaN</td>\n",
       "      <td>...</td>\n",
       "      <td>NaN</td>\n",
       "      <td>mpfi</td>\n",
       "      <td>3.62</td>\n",
       "      <td>3.40</td>\n",
       "      <td>NaN</td>\n",
       "      <td>68</td>\n",
       "      <td>5500</td>\n",
       "      <td>NaN</td>\n",
       "      <td>NaN</td>\n",
       "      <td>?</td>\n",
       "    </tr>\n",
       "    <tr>\n",
       "      <th>freq</th>\n",
       "      <td>NaN</td>\n",
       "      <td>41</td>\n",
       "      <td>32</td>\n",
       "      <td>185</td>\n",
       "      <td>168</td>\n",
       "      <td>114</td>\n",
       "      <td>96</td>\n",
       "      <td>120</td>\n",
       "      <td>202</td>\n",
       "      <td>NaN</td>\n",
       "      <td>...</td>\n",
       "      <td>NaN</td>\n",
       "      <td>94</td>\n",
       "      <td>23</td>\n",
       "      <td>20</td>\n",
       "      <td>NaN</td>\n",
       "      <td>19</td>\n",
       "      <td>37</td>\n",
       "      <td>NaN</td>\n",
       "      <td>NaN</td>\n",
       "      <td>4</td>\n",
       "    </tr>\n",
       "    <tr>\n",
       "      <th>mean</th>\n",
       "      <td>0.834146</td>\n",
       "      <td>NaN</td>\n",
       "      <td>NaN</td>\n",
       "      <td>NaN</td>\n",
       "      <td>NaN</td>\n",
       "      <td>NaN</td>\n",
       "      <td>NaN</td>\n",
       "      <td>NaN</td>\n",
       "      <td>NaN</td>\n",
       "      <td>98.756585</td>\n",
       "      <td>...</td>\n",
       "      <td>126.907317</td>\n",
       "      <td>NaN</td>\n",
       "      <td>NaN</td>\n",
       "      <td>NaN</td>\n",
       "      <td>10.142537</td>\n",
       "      <td>NaN</td>\n",
       "      <td>NaN</td>\n",
       "      <td>25.219512</td>\n",
       "      <td>30.751220</td>\n",
       "      <td>NaN</td>\n",
       "    </tr>\n",
       "    <tr>\n",
       "      <th>std</th>\n",
       "      <td>1.245307</td>\n",
       "      <td>NaN</td>\n",
       "      <td>NaN</td>\n",
       "      <td>NaN</td>\n",
       "      <td>NaN</td>\n",
       "      <td>NaN</td>\n",
       "      <td>NaN</td>\n",
       "      <td>NaN</td>\n",
       "      <td>NaN</td>\n",
       "      <td>6.021776</td>\n",
       "      <td>...</td>\n",
       "      <td>41.642693</td>\n",
       "      <td>NaN</td>\n",
       "      <td>NaN</td>\n",
       "      <td>NaN</td>\n",
       "      <td>3.972040</td>\n",
       "      <td>NaN</td>\n",
       "      <td>NaN</td>\n",
       "      <td>6.542142</td>\n",
       "      <td>6.886443</td>\n",
       "      <td>NaN</td>\n",
       "    </tr>\n",
       "    <tr>\n",
       "      <th>min</th>\n",
       "      <td>-2.000000</td>\n",
       "      <td>NaN</td>\n",
       "      <td>NaN</td>\n",
       "      <td>NaN</td>\n",
       "      <td>NaN</td>\n",
       "      <td>NaN</td>\n",
       "      <td>NaN</td>\n",
       "      <td>NaN</td>\n",
       "      <td>NaN</td>\n",
       "      <td>86.600000</td>\n",
       "      <td>...</td>\n",
       "      <td>61.000000</td>\n",
       "      <td>NaN</td>\n",
       "      <td>NaN</td>\n",
       "      <td>NaN</td>\n",
       "      <td>7.000000</td>\n",
       "      <td>NaN</td>\n",
       "      <td>NaN</td>\n",
       "      <td>13.000000</td>\n",
       "      <td>16.000000</td>\n",
       "      <td>NaN</td>\n",
       "    </tr>\n",
       "    <tr>\n",
       "      <th>25%</th>\n",
       "      <td>0.000000</td>\n",
       "      <td>NaN</td>\n",
       "      <td>NaN</td>\n",
       "      <td>NaN</td>\n",
       "      <td>NaN</td>\n",
       "      <td>NaN</td>\n",
       "      <td>NaN</td>\n",
       "      <td>NaN</td>\n",
       "      <td>NaN</td>\n",
       "      <td>94.500000</td>\n",
       "      <td>...</td>\n",
       "      <td>97.000000</td>\n",
       "      <td>NaN</td>\n",
       "      <td>NaN</td>\n",
       "      <td>NaN</td>\n",
       "      <td>8.600000</td>\n",
       "      <td>NaN</td>\n",
       "      <td>NaN</td>\n",
       "      <td>19.000000</td>\n",
       "      <td>25.000000</td>\n",
       "      <td>NaN</td>\n",
       "    </tr>\n",
       "    <tr>\n",
       "      <th>50%</th>\n",
       "      <td>1.000000</td>\n",
       "      <td>NaN</td>\n",
       "      <td>NaN</td>\n",
       "      <td>NaN</td>\n",
       "      <td>NaN</td>\n",
       "      <td>NaN</td>\n",
       "      <td>NaN</td>\n",
       "      <td>NaN</td>\n",
       "      <td>NaN</td>\n",
       "      <td>97.000000</td>\n",
       "      <td>...</td>\n",
       "      <td>120.000000</td>\n",
       "      <td>NaN</td>\n",
       "      <td>NaN</td>\n",
       "      <td>NaN</td>\n",
       "      <td>9.000000</td>\n",
       "      <td>NaN</td>\n",
       "      <td>NaN</td>\n",
       "      <td>24.000000</td>\n",
       "      <td>30.000000</td>\n",
       "      <td>NaN</td>\n",
       "    </tr>\n",
       "    <tr>\n",
       "      <th>75%</th>\n",
       "      <td>2.000000</td>\n",
       "      <td>NaN</td>\n",
       "      <td>NaN</td>\n",
       "      <td>NaN</td>\n",
       "      <td>NaN</td>\n",
       "      <td>NaN</td>\n",
       "      <td>NaN</td>\n",
       "      <td>NaN</td>\n",
       "      <td>NaN</td>\n",
       "      <td>102.400000</td>\n",
       "      <td>...</td>\n",
       "      <td>141.000000</td>\n",
       "      <td>NaN</td>\n",
       "      <td>NaN</td>\n",
       "      <td>NaN</td>\n",
       "      <td>9.400000</td>\n",
       "      <td>NaN</td>\n",
       "      <td>NaN</td>\n",
       "      <td>30.000000</td>\n",
       "      <td>34.000000</td>\n",
       "      <td>NaN</td>\n",
       "    </tr>\n",
       "    <tr>\n",
       "      <th>max</th>\n",
       "      <td>3.000000</td>\n",
       "      <td>NaN</td>\n",
       "      <td>NaN</td>\n",
       "      <td>NaN</td>\n",
       "      <td>NaN</td>\n",
       "      <td>NaN</td>\n",
       "      <td>NaN</td>\n",
       "      <td>NaN</td>\n",
       "      <td>NaN</td>\n",
       "      <td>120.900000</td>\n",
       "      <td>...</td>\n",
       "      <td>326.000000</td>\n",
       "      <td>NaN</td>\n",
       "      <td>NaN</td>\n",
       "      <td>NaN</td>\n",
       "      <td>23.000000</td>\n",
       "      <td>NaN</td>\n",
       "      <td>NaN</td>\n",
       "      <td>49.000000</td>\n",
       "      <td>54.000000</td>\n",
       "      <td>NaN</td>\n",
       "    </tr>\n",
       "  </tbody>\n",
       "</table>\n",
       "<p>11 rows × 26 columns</p>\n",
       "</div>"
      ],
      "text/plain": [
       "         symboling normalized-losses    make fuel-type aspiration  \\\n",
       "count   205.000000               205     205       205        205   \n",
       "unique         NaN                52      22         2          2   \n",
       "top            NaN                 ?  toyota       gas        std   \n",
       "freq           NaN                41      32       185        168   \n",
       "mean      0.834146               NaN     NaN       NaN        NaN   \n",
       "std       1.245307               NaN     NaN       NaN        NaN   \n",
       "min      -2.000000               NaN     NaN       NaN        NaN   \n",
       "25%       0.000000               NaN     NaN       NaN        NaN   \n",
       "50%       1.000000               NaN     NaN       NaN        NaN   \n",
       "75%       2.000000               NaN     NaN       NaN        NaN   \n",
       "max       3.000000               NaN     NaN       NaN        NaN   \n",
       "\n",
       "       num-of-doors body-style drive-wheels engine-location  wheel-base  ...  \\\n",
       "count           205        205          205             205  205.000000  ...   \n",
       "unique            3          5            3               2         NaN  ...   \n",
       "top            four      sedan          fwd           front         NaN  ...   \n",
       "freq            114         96          120             202         NaN  ...   \n",
       "mean            NaN        NaN          NaN             NaN   98.756585  ...   \n",
       "std             NaN        NaN          NaN             NaN    6.021776  ...   \n",
       "min             NaN        NaN          NaN             NaN   86.600000  ...   \n",
       "25%             NaN        NaN          NaN             NaN   94.500000  ...   \n",
       "50%             NaN        NaN          NaN             NaN   97.000000  ...   \n",
       "75%             NaN        NaN          NaN             NaN  102.400000  ...   \n",
       "max             NaN        NaN          NaN             NaN  120.900000  ...   \n",
       "\n",
       "        engine-size  fuel-system  bore  stroke compression-ratio horsepower  \\\n",
       "count    205.000000          205   205     205        205.000000        205   \n",
       "unique          NaN            8    39      37               NaN         60   \n",
       "top             NaN         mpfi  3.62    3.40               NaN         68   \n",
       "freq            NaN           94    23      20               NaN         19   \n",
       "mean     126.907317          NaN   NaN     NaN         10.142537        NaN   \n",
       "std       41.642693          NaN   NaN     NaN          3.972040        NaN   \n",
       "min       61.000000          NaN   NaN     NaN          7.000000        NaN   \n",
       "25%       97.000000          NaN   NaN     NaN          8.600000        NaN   \n",
       "50%      120.000000          NaN   NaN     NaN          9.000000        NaN   \n",
       "75%      141.000000          NaN   NaN     NaN          9.400000        NaN   \n",
       "max      326.000000          NaN   NaN     NaN         23.000000        NaN   \n",
       "\n",
       "        peak-rpm    city-mpg highway-mpg price  \n",
       "count        205  205.000000  205.000000   205  \n",
       "unique        24         NaN         NaN   187  \n",
       "top         5500         NaN         NaN     ?  \n",
       "freq          37         NaN         NaN     4  \n",
       "mean         NaN   25.219512   30.751220   NaN  \n",
       "std          NaN    6.542142    6.886443   NaN  \n",
       "min          NaN   13.000000   16.000000   NaN  \n",
       "25%          NaN   19.000000   25.000000   NaN  \n",
       "50%          NaN   24.000000   30.000000   NaN  \n",
       "75%          NaN   30.000000   34.000000   NaN  \n",
       "max          NaN   49.000000   54.000000   NaN  \n",
       "\n",
       "[11 rows x 26 columns]"
      ]
     },
     "execution_count": 58,
     "metadata": {},
     "output_type": "execute_result"
    }
   ],
   "source": [
    "cars.describe(include = \"all\")"
   ]
  },
  {
   "cell_type": "code",
   "execution_count": 59,
   "metadata": {},
   "outputs": [
    {
     "name": "stdout",
     "output_type": "stream",
     "text": [
      "<class 'pandas.core.frame.DataFrame'>\n",
      "RangeIndex: 205 entries, 0 to 204\n",
      "Data columns (total 26 columns):\n",
      " #   Column             Non-Null Count  Dtype  \n",
      "---  ------             --------------  -----  \n",
      " 0   symboling          205 non-null    int64  \n",
      " 1   normalized-losses  205 non-null    object \n",
      " 2   make               205 non-null    object \n",
      " 3   fuel-type          205 non-null    object \n",
      " 4   aspiration         205 non-null    object \n",
      " 5   num-of-doors       205 non-null    object \n",
      " 6   body-style         205 non-null    object \n",
      " 7   drive-wheels       205 non-null    object \n",
      " 8   engine-location    205 non-null    object \n",
      " 9   wheel-base         205 non-null    float64\n",
      " 10  length             205 non-null    float64\n",
      " 11  width              205 non-null    float64\n",
      " 12  height             205 non-null    float64\n",
      " 13  curb-weight        205 non-null    int64  \n",
      " 14  engine-type        205 non-null    object \n",
      " 15  num-of-cylinders   205 non-null    object \n",
      " 16  engine-size        205 non-null    int64  \n",
      " 17  fuel-system        205 non-null    object \n",
      " 18  bore               205 non-null    object \n",
      " 19  stroke             205 non-null    object \n",
      " 20  compression-ratio  205 non-null    float64\n",
      " 21  horsepower         205 non-null    object \n",
      " 22  peak-rpm           205 non-null    object \n",
      " 23  city-mpg           205 non-null    int64  \n",
      " 24  highway-mpg        205 non-null    int64  \n",
      " 25  price              205 non-null    object \n",
      "dtypes: float64(5), int64(5), object(16)\n",
      "memory usage: 41.8+ KB\n"
     ]
    }
   ],
   "source": [
    "cars.info()\n",
    "#top 30 rows and bottom 30 rows of df"
   ]
  },
  {
   "cell_type": "markdown",
   "metadata": {},
   "source": [
    "<div style=\"font-family:courier\">\n",
    "<h2> Drop missing values </h2>\n",
    "\n",
    "<p> If axis = 0 drop rows </p>\n",
    "<p> If axis = 1 drop column </p>\n",
    "\n",
    "<p> To modify the old df we set inplace to true</p>\n",
    "<p> To effect drop na w/o changing the df we leave out the parameter inplace</p> \n",
    "    </div>"
   ]
  },
  {
   "cell_type": "code",
   "execution_count": 60,
   "metadata": {},
   "outputs": [],
   "source": [
    "#### drop missing variables\n",
    "### df.dropna(axis=0 or 1, inplace = True)  0 rows 1 column"
   ]
  },
  {
   "cell_type": "code",
   "execution_count": 61,
   "metadata": {},
   "outputs": [],
   "source": [
    "cars.dropna(subset = [\"price\"], axis = 0, inplace = True)"
   ]
  },
  {
   "cell_type": "code",
   "execution_count": 62,
   "metadata": {},
   "outputs": [
    {
     "data": {
      "text/plain": [
       "?      41\n",
       "161    11\n",
       "91      8\n",
       "150     7\n",
       "134     6\n",
       "128     6\n",
       "104     6\n",
       "85      5\n",
       "94      5\n",
       "65      5\n",
       "102     5\n",
       "74      5\n",
       "168     5\n",
       "103     5\n",
       "95      5\n",
       "106     4\n",
       "93      4\n",
       "118     4\n",
       "148     4\n",
       "122     4\n",
       "83      3\n",
       "125     3\n",
       "154     3\n",
       "115     3\n",
       "137     3\n",
       "101     3\n",
       "119     2\n",
       "87      2\n",
       "89      2\n",
       "192     2\n",
       "197     2\n",
       "158     2\n",
       "81      2\n",
       "188     2\n",
       "194     2\n",
       "153     2\n",
       "129     2\n",
       "108     2\n",
       "110     2\n",
       "164     2\n",
       "145     2\n",
       "113     2\n",
       "256     1\n",
       "107     1\n",
       "90      1\n",
       "231     1\n",
       "142     1\n",
       "121     1\n",
       "78      1\n",
       "98      1\n",
       "186     1\n",
       "77      1\n",
       "Name: normalized-losses, dtype: int64"
      ]
     },
     "execution_count": 62,
     "metadata": {},
     "output_type": "execute_result"
    }
   ],
   "source": [
    "cars[\"normalized-losses\"].value_counts()"
   ]
  },
  {
   "cell_type": "code",
   "execution_count": 63,
   "metadata": {},
   "outputs": [],
   "source": [
    "cars[\"normalized-losses\"] = cars[\"normalized-losses\"].replace(\"?\" ,1)"
   ]
  },
  {
   "cell_type": "code",
   "execution_count": 64,
   "metadata": {
    "scrolled": true
   },
   "outputs": [],
   "source": [
    "cars[\"normalized-losses\"] = cars[\"normalized-losses\"].astype(int)"
   ]
  },
  {
   "cell_type": "markdown",
   "metadata": {},
   "source": [
    "<h2 style=\"font-family:courier\"> Repalce missing values with mean of df column</h2>"
   ]
  },
  {
   "cell_type": "code",
   "execution_count": 65,
   "metadata": {},
   "outputs": [],
   "source": [
    "cars[\"normalized-losses\"] = cars[\"normalized-losses\"].replace(1 ,np.nan)"
   ]
  },
  {
   "cell_type": "code",
   "execution_count": 66,
   "metadata": {},
   "outputs": [],
   "source": [
    "mean = cars[\"normalized-losses\"].mean()"
   ]
  },
  {
   "cell_type": "code",
   "execution_count": 67,
   "metadata": {},
   "outputs": [],
   "source": [
    "cars[\"normalized-losses\"] = cars[\"normalized-losses\"].replace(np.nan, mean)"
   ]
  },
  {
   "cell_type": "code",
   "execution_count": 98,
   "metadata": {},
   "outputs": [],
   "source": [
    "cars['horsepower'] = cars['horsepower'].replace('?', 1)\n",
    "cars['curb-weight'] = cars['curb-weight'].replace('?', 1)\n",
    "cars['engine-size'] = cars['engine-size'].replace('?', 1)"
   ]
  },
  {
   "cell_type": "code",
   "execution_count": 99,
   "metadata": {},
   "outputs": [],
   "source": [
    "cars['horsepower'] = cars['horsepower'].astype(int)\n",
    "cars['curb-weight'] = cars['curb-weight'].astype(int)\n",
    "cars['engine-size'] = cars['engine-size'].astype(int)"
   ]
  },
  {
   "cell_type": "code",
   "execution_count": 100,
   "metadata": {},
   "outputs": [],
   "source": [
    "cars['horsepower'] = cars['horsepower'].replace(1, np.nan)\n",
    "cars['curb-weight'] = cars['curb-weight'].replace(1, np.nan)\n",
    "cars['engine-size'] = cars['engine-size'].replace(1, np.nan)"
   ]
  },
  {
   "cell_type": "code",
   "execution_count": 101,
   "metadata": {},
   "outputs": [],
   "source": [
    "mean3 = cars['horsepower'].mean()\n",
    "mean4 = cars['curb-weight'].mean()\n",
    "mean5 = cars['engine-size'].mean()"
   ]
  },
  {
   "cell_type": "code",
   "execution_count": 102,
   "metadata": {},
   "outputs": [],
   "source": [
    "cars['horsepower'] = cars['horsepower'].replace(np.nan, mean3)\n",
    "cars['curb-weight'] = cars['curb-weight'].replace(np.nan, mean4)\n",
    "cars['engine-size'] = cars['engine-size'].replace(np.nan, mean5)\n"
   ]
  },
  {
   "cell_type": "markdown",
   "metadata": {},
   "source": [
    "<h1 style=\"font-family:courier\"> Data Formatting </h1>"
   ]
  },
  {
   "cell_type": "markdown",
   "metadata": {},
   "source": [
    "<div style=\"font-family:courier\">\n",
    "<p> This is useful for bringing data into a common standard of expression which allows users to make meaningful comparison </p>\n",
    "<p> it makes data:\n",
    "<ol> \n",
    "    <li> more clear </li>\n",
    "    <li> easy to aggregate </li>\n",
    "    <li> easy to compare</li>\n",
    "</ol>\n",
    "    </div>"
   ]
  },
  {
   "cell_type": "markdown",
   "metadata": {},
   "source": [
    "<p style=\"font-family:courier\"> Convert \"mpg\" to \"L/100km\" in car dataset and rename </p>"
   ]
  },
  {
   "cell_type": "code",
   "execution_count": 68,
   "metadata": {},
   "outputs": [],
   "source": [
    "cars['city-mpg'] = 235/cars['city-mpg']\n",
    "\n",
    "cars.rename(columns = {'city-mpg': 'city-L/100km'}, inplace = True)"
   ]
  },
  {
   "cell_type": "code",
   "execution_count": 69,
   "metadata": {},
   "outputs": [
    {
     "data": {
      "text/plain": [
       "200    16845\n",
       "201    19045\n",
       "202    21485\n",
       "203    22470\n",
       "204    22625\n",
       "Name: price, dtype: object"
      ]
     },
     "execution_count": 69,
     "metadata": {},
     "output_type": "execute_result"
    }
   ],
   "source": [
    "cars['price'].tail(5)"
   ]
  },
  {
   "cell_type": "markdown",
   "metadata": {},
   "source": [
    "<div style=\"font-family:courier\">\n",
    "<h1> Correcting data types </h1>\n",
    "\n",
    "<ul>\n",
    "    <li> to identify data types:  Use df.dtypes() </li>\n",
    "    <li> to convert data types: Use df.astype() </li>\n",
    "</ul>\n",
    "</div>"
   ]
  },
  {
   "cell_type": "markdown",
   "metadata": {},
   "source": [
    "<h1 style=\"font-family:verdana\"> Data Normilization </h1>"
   ]
  },
  {
   "cell_type": "markdown",
   "metadata": {},
   "source": [
    "<div style=\"font-family:courier\">\n",
    "<h2> Methods of normilization </h2>\n",
    "<p> simple feature scaling = old/max<p>\n",
    "    <p> min-max = old-min/max-min <p>\n",
    "    <p> z-score = old-mean/std </p>\n",
    "</div>"
   ]
  },
  {
   "cell_type": "code",
   "execution_count": 70,
   "metadata": {},
   "outputs": [],
   "source": [
    "# frist we use the simple feature scaling method\n",
    "\n",
    "#cars['length'] = cars['length']/cars['length'].max()\n",
    "\n",
    "# then we use the min max method\n",
    "\n",
    "# cars['length'] = (cars['length'] - cars['length'].min()) / (cars['length'].max() - cars['length'].min())\n",
    "\n",
    "# and finally we use the z-score method\n",
    "\n",
    "# cars['length'] = (cars['length'] - cars['length'].mean()) / cars['length'].std()"
   ]
  },
  {
   "cell_type": "markdown",
   "metadata": {},
   "source": [
    "<div style=\"font-family:courier\">\n",
    "<h2> Binning </h2>\n",
    "\n",
    "<p> Group values into 'bins' </p>\n",
    "<p> Convert numeric into categorical variables </p>\n",
    "<p> Group a set of numerical values into a set of 'bins' </p>\n",
    " \n",
    "</div>    "
   ]
  },
  {
   "cell_type": "code",
   "execution_count": 71,
   "metadata": {},
   "outputs": [],
   "source": [
    "cars[\"price\"] = cars[\"price\"].replace('?' , 1)\n",
    "cars['price'] = cars['price'].astype(int)\n",
    "cars[\"price\"] = cars[\"price\"].replace(1 , np.NaN)\n",
    "mean_price = cars['price'].mean()\n",
    "cars['price'] = cars['price'].replace(np.nan, mean_price)"
   ]
  },
  {
   "cell_type": "code",
   "execution_count": 72,
   "metadata": {},
   "outputs": [],
   "source": [
    "bins = np.linspace(min(cars['price']), max(cars['price']), 4)"
   ]
  },
  {
   "cell_type": "code",
   "execution_count": 73,
   "metadata": {},
   "outputs": [],
   "source": [
    "group_names = [\"Low\", \"Medium\", \"High\"]"
   ]
  },
  {
   "cell_type": "code",
   "execution_count": 74,
   "metadata": {},
   "outputs": [],
   "source": [
    "cars['price-binned'] = pd.cut(cars['price'], bins, labels=group_names, include_lowest=True)"
   ]
  },
  {
   "cell_type": "code",
   "execution_count": 75,
   "metadata": {},
   "outputs": [
    {
     "data": {
      "text/plain": [
       "Low       175\n",
       "Medium     18\n",
       "High       12\n",
       "Name: price-binned, dtype: int64"
      ]
     },
     "execution_count": 75,
     "metadata": {},
     "output_type": "execute_result"
    }
   ],
   "source": [
    "cars['price-binned'].value_counts()"
   ]
  },
  {
   "cell_type": "markdown",
   "metadata": {},
   "source": [
    "<h2 style=\"font-family:courier\"> Categorical to Numeric </h2>"
   ]
  },
  {
   "cell_type": "code",
   "execution_count": 28,
   "metadata": {},
   "outputs": [
    {
     "data": {
      "text/html": [
       "<div>\n",
       "<style scoped>\n",
       "    .dataframe tbody tr th:only-of-type {\n",
       "        vertical-align: middle;\n",
       "    }\n",
       "\n",
       "    .dataframe tbody tr th {\n",
       "        vertical-align: top;\n",
       "    }\n",
       "\n",
       "    .dataframe thead th {\n",
       "        text-align: right;\n",
       "    }\n",
       "</style>\n",
       "<table border=\"1\" class=\"dataframe\">\n",
       "  <thead>\n",
       "    <tr style=\"text-align: right;\">\n",
       "      <th></th>\n",
       "      <th>diesel</th>\n",
       "      <th>gas</th>\n",
       "    </tr>\n",
       "  </thead>\n",
       "  <tbody>\n",
       "    <tr>\n",
       "      <th>0</th>\n",
       "      <td>0</td>\n",
       "      <td>1</td>\n",
       "    </tr>\n",
       "    <tr>\n",
       "      <th>1</th>\n",
       "      <td>0</td>\n",
       "      <td>1</td>\n",
       "    </tr>\n",
       "    <tr>\n",
       "      <th>2</th>\n",
       "      <td>0</td>\n",
       "      <td>1</td>\n",
       "    </tr>\n",
       "    <tr>\n",
       "      <th>3</th>\n",
       "      <td>0</td>\n",
       "      <td>1</td>\n",
       "    </tr>\n",
       "    <tr>\n",
       "      <th>4</th>\n",
       "      <td>0</td>\n",
       "      <td>1</td>\n",
       "    </tr>\n",
       "    <tr>\n",
       "      <th>...</th>\n",
       "      <td>...</td>\n",
       "      <td>...</td>\n",
       "    </tr>\n",
       "    <tr>\n",
       "      <th>200</th>\n",
       "      <td>0</td>\n",
       "      <td>1</td>\n",
       "    </tr>\n",
       "    <tr>\n",
       "      <th>201</th>\n",
       "      <td>0</td>\n",
       "      <td>1</td>\n",
       "    </tr>\n",
       "    <tr>\n",
       "      <th>202</th>\n",
       "      <td>0</td>\n",
       "      <td>1</td>\n",
       "    </tr>\n",
       "    <tr>\n",
       "      <th>203</th>\n",
       "      <td>1</td>\n",
       "      <td>0</td>\n",
       "    </tr>\n",
       "    <tr>\n",
       "      <th>204</th>\n",
       "      <td>0</td>\n",
       "      <td>1</td>\n",
       "    </tr>\n",
       "  </tbody>\n",
       "</table>\n",
       "<p>205 rows × 2 columns</p>\n",
       "</div>"
      ],
      "text/plain": [
       "     diesel  gas\n",
       "0         0    1\n",
       "1         0    1\n",
       "2         0    1\n",
       "3         0    1\n",
       "4         0    1\n",
       "..      ...  ...\n",
       "200       0    1\n",
       "201       0    1\n",
       "202       0    1\n",
       "203       1    0\n",
       "204       0    1\n",
       "\n",
       "[205 rows x 2 columns]"
      ]
     },
     "execution_count": 28,
     "metadata": {},
     "output_type": "execute_result"
    }
   ],
   "source": [
    "# use pd.get_dummies()\n",
    "\n",
    "pd.get_dummies(cars[\"fuel-type\"])"
   ]
  },
  {
   "cell_type": "code",
   "execution_count": 29,
   "metadata": {},
   "outputs": [],
   "source": [
    "drive_wheels_counts = cars['drive-wheels'].value_counts().to_frame()"
   ]
  },
  {
   "cell_type": "code",
   "execution_count": 30,
   "metadata": {},
   "outputs": [
    {
     "data": {
      "text/html": [
       "<div>\n",
       "<style scoped>\n",
       "    .dataframe tbody tr th:only-of-type {\n",
       "        vertical-align: middle;\n",
       "    }\n",
       "\n",
       "    .dataframe tbody tr th {\n",
       "        vertical-align: top;\n",
       "    }\n",
       "\n",
       "    .dataframe thead th {\n",
       "        text-align: right;\n",
       "    }\n",
       "</style>\n",
       "<table border=\"1\" class=\"dataframe\">\n",
       "  <thead>\n",
       "    <tr style=\"text-align: right;\">\n",
       "      <th></th>\n",
       "      <th>drive-wheels</th>\n",
       "    </tr>\n",
       "  </thead>\n",
       "  <tbody>\n",
       "    <tr>\n",
       "      <th>fwd</th>\n",
       "      <td>120</td>\n",
       "    </tr>\n",
       "    <tr>\n",
       "      <th>rwd</th>\n",
       "      <td>76</td>\n",
       "    </tr>\n",
       "    <tr>\n",
       "      <th>4wd</th>\n",
       "      <td>9</td>\n",
       "    </tr>\n",
       "  </tbody>\n",
       "</table>\n",
       "</div>"
      ],
      "text/plain": [
       "     drive-wheels\n",
       "fwd           120\n",
       "rwd            76\n",
       "4wd             9"
      ]
     },
     "execution_count": 30,
     "metadata": {},
     "output_type": "execute_result"
    }
   ],
   "source": [
    "drive_wheels_counts.rename(columns = {'drive_wheels': 'value_counts'}, inplace=True)\n",
    "drive_wheels_counts"
   ]
  },
  {
   "cell_type": "markdown",
   "metadata": {},
   "source": [
    "<div style=\"font-family:courier\">\n",
    "<h1> EXPLORATORY DATA ANALYSIS </h1>\n",
    "\n",
    "<p> Preliminary step in data analysis to: </p>\n",
    "    <ul>\n",
    "        <li> Summarize main xtics of the data </li>\n",
    "        <li> Gain better understanding of the dataset </li>\n",
    "        <li> Uncover relationships btw variables </li>\n",
    "        <li> Extract important variables </li>\n",
    "    </ul>\n",
    "</div>"
   ]
  },
  {
   "cell_type": "markdown",
   "metadata": {},
   "source": [
    "<div style=\"font-family:courier\">\n",
    "\n",
    "<h2> The main question we are trying to answer is: </h2>\n",
    "\n",
    "<p> \"What are the xtics which have the most impact on the car price\" </p>\n",
    "</div>"
   ]
  },
  {
   "cell_type": "markdown",
   "metadata": {},
   "source": [
    "<div style=\"font-family:courier\">\n",
    "    <h1> Decriptive statistics </h1>\n",
    "\n",
    "<p> we can quickly get an overview on our data by: </p>\n",
    "    <ul>\n",
    "        <li> df.describe() </li> \n",
    "        <li> df['var_name'].value_counts() </li>\n",
    "    </ul>\n",
    "\n",
    "</div>"
   ]
  },
  {
   "cell_type": "markdown",
   "metadata": {},
   "source": [
    "<div style=\"font-family:courier\">\n",
    "    \n",
    "<h1> Visualizing various distribution of data </h1>\n",
    "\n",
    "<p> Box plots are great a way to visualize numeric data</p>\n",
    "<p> the main features that the box plot shows are: </p>\n",
    "<ul>\n",
    "    <li> median of the data, which represents where the middle data point is,</li>\n",
    "    <li> the upper quartile shows where the 75th percentile is </li>\n",
    "    <li> the lower quartile shows the where the 25th percentile is </li>\n",
    "    <li> the data between the upper and lower quartile represents the interquartile range </li>\n",
    "    <li> next you have the lower and upper extremes </li>\n",
    "    <li> outliers </li> \n",
    "</ul>\n",
    "\n",
    "</div>    "
   ]
  },
  {
   "cell_type": "markdown",
   "metadata": {},
   "source": [
    "<div style=\"font-family:courier\">\n",
    "<h2> What if we wanted to understand the relationship btw price and engine size (both are continous vars) </h2>\n",
    "\n",
    "<p> One good way to visulaize this is using a scatter plot </p>\n",
    "<p> Here the predictor variable is the var that you are using to predict an outcome (here it's engine size) on the x axis </p>\n",
    "<p> The target var is the var that you are trying to predict ( here it's price) on the y axis</p> \n",
    "\n",
    "</div>"
   ]
  },
  {
   "cell_type": "code",
   "execution_count": 76,
   "metadata": {},
   "outputs": [
    {
     "data": {
      "text/plain": [
       "Text(0, 0.5, '')"
      ]
     },
     "execution_count": 76,
     "metadata": {},
     "output_type": "execute_result"
    },
    {
     "data": {
      "image/png": "[encoded data removed]",
      "text/plain": [
       "<Figure size 432x288 with 1 Axes>"
      ]
     },
     "metadata": {
      "needs_background": "light"
     },
     "output_type": "display_data"
    }
   ],
   "source": [
    "y = cars['price']\n",
    "x = cars['engine-size']\n",
    "\n",
    "plt.scatter(x, y)\n",
    "\n",
    "plt.title('title')\n",
    "plt.xlabel('')\n",
    "plt.ylabel('')"
   ]
  },
  {
   "cell_type": "markdown",
   "metadata": {},
   "source": [
    "<div style=\"font-family:courier\">\n",
    "    \n",
    "<h1> Group by in Python</h1>\n",
    "\n",
    "<p> The groupby method is used on categorical variables</p>\n",
    "    \n",
    "</div>"
   ]
  },
  {
   "cell_type": "code",
   "execution_count": 32,
   "metadata": {},
   "outputs": [],
   "source": [
    "## df.groupby()"
   ]
  },
  {
   "cell_type": "markdown",
   "metadata": {},
   "source": [
    "<p style=\"font-family:courier\"> What if we are interested in finding the average price of vehicles and observe how they differ btw types of body styles and drive wheels variables</p>"
   ]
  },
  {
   "cell_type": "code",
   "execution_count": 34,
   "metadata": {},
   "outputs": [
    {
     "data": {
      "text/html": [
       "<div>\n",
       "<style scoped>\n",
       "    .dataframe tbody tr th:only-of-type {\n",
       "        vertical-align: middle;\n",
       "    }\n",
       "\n",
       "    .dataframe tbody tr th {\n",
       "        vertical-align: top;\n",
       "    }\n",
       "\n",
       "    .dataframe thead th {\n",
       "        text-align: right;\n",
       "    }\n",
       "</style>\n",
       "<table border=\"1\" class=\"dataframe\">\n",
       "  <thead>\n",
       "    <tr style=\"text-align: right;\">\n",
       "      <th></th>\n",
       "      <th>drive-wheels</th>\n",
       "      <th>body-style</th>\n",
       "      <th>price</th>\n",
       "    </tr>\n",
       "  </thead>\n",
       "  <tbody>\n",
       "    <tr>\n",
       "      <th>0</th>\n",
       "      <td>4wd</td>\n",
       "      <td>hatchback</td>\n",
       "      <td>7603.000000</td>\n",
       "    </tr>\n",
       "    <tr>\n",
       "      <th>1</th>\n",
       "      <td>4wd</td>\n",
       "      <td>sedan</td>\n",
       "      <td>12647.333333</td>\n",
       "    </tr>\n",
       "    <tr>\n",
       "      <th>2</th>\n",
       "      <td>4wd</td>\n",
       "      <td>wagon</td>\n",
       "      <td>9095.750000</td>\n",
       "    </tr>\n",
       "    <tr>\n",
       "      <th>3</th>\n",
       "      <td>fwd</td>\n",
       "      <td>convertible</td>\n",
       "      <td>11595.000000</td>\n",
       "    </tr>\n",
       "    <tr>\n",
       "      <th>4</th>\n",
       "      <td>fwd</td>\n",
       "      <td>hardtop</td>\n",
       "      <td>8249.000000</td>\n",
       "    </tr>\n",
       "    <tr>\n",
       "      <th>5</th>\n",
       "      <td>fwd</td>\n",
       "      <td>hatchback</td>\n",
       "      <td>8396.387755</td>\n",
       "    </tr>\n",
       "    <tr>\n",
       "      <th>6</th>\n",
       "      <td>fwd</td>\n",
       "      <td>sedan</td>\n",
       "      <td>9811.800000</td>\n",
       "    </tr>\n",
       "    <tr>\n",
       "      <th>7</th>\n",
       "      <td>fwd</td>\n",
       "      <td>wagon</td>\n",
       "      <td>9997.333333</td>\n",
       "    </tr>\n",
       "    <tr>\n",
       "      <th>8</th>\n",
       "      <td>rwd</td>\n",
       "      <td>convertible</td>\n",
       "      <td>23949.600000</td>\n",
       "    </tr>\n",
       "    <tr>\n",
       "      <th>9</th>\n",
       "      <td>rwd</td>\n",
       "      <td>hardtop</td>\n",
       "      <td>24202.714286</td>\n",
       "    </tr>\n",
       "    <tr>\n",
       "      <th>10</th>\n",
       "      <td>rwd</td>\n",
       "      <td>hatchback</td>\n",
       "      <td>14337.777778</td>\n",
       "    </tr>\n",
       "    <tr>\n",
       "      <th>11</th>\n",
       "      <td>rwd</td>\n",
       "      <td>sedan</td>\n",
       "      <td>21711.833333</td>\n",
       "    </tr>\n",
       "    <tr>\n",
       "      <th>12</th>\n",
       "      <td>rwd</td>\n",
       "      <td>wagon</td>\n",
       "      <td>16994.222222</td>\n",
       "    </tr>\n",
       "  </tbody>\n",
       "</table>\n",
       "</div>"
      ],
      "text/plain": [
       "   drive-wheels   body-style         price\n",
       "0           4wd    hatchback   7603.000000\n",
       "1           4wd        sedan  12647.333333\n",
       "2           4wd        wagon   9095.750000\n",
       "3           fwd  convertible  11595.000000\n",
       "4           fwd      hardtop   8249.000000\n",
       "5           fwd    hatchback   8396.387755\n",
       "6           fwd        sedan   9811.800000\n",
       "7           fwd        wagon   9997.333333\n",
       "8           rwd  convertible  23949.600000\n",
       "9           rwd      hardtop  24202.714286\n",
       "10          rwd    hatchback  14337.777778\n",
       "11          rwd        sedan  21711.833333\n",
       "12          rwd        wagon  16994.222222"
      ]
     },
     "execution_count": 34,
     "metadata": {},
     "output_type": "execute_result"
    }
   ],
   "source": [
    "cars_test = cars[['drive-wheels', 'body-style', 'price']]\n",
    "cars_grp = cars_test.groupby(['drive-wheels', 'body-style'], as_index = False).mean()\n",
    "cars_grp"
   ]
  },
  {
   "cell_type": "markdown",
   "metadata": {
    "tags": []
   },
   "source": [
    "<h2 style=\"font-family:courier\"> To make our table easier to visualize, we can tranform it to a pivot table with the pandas command \"pd.pivot()\" </h2>"
   ]
  },
  {
   "cell_type": "code",
   "execution_count": 35,
   "metadata": {},
   "outputs": [
    {
     "data": {
      "text/html": [
       "<div>\n",
       "<style scoped>\n",
       "    .dataframe tbody tr th:only-of-type {\n",
       "        vertical-align: middle;\n",
       "    }\n",
       "\n",
       "    .dataframe tbody tr th {\n",
       "        vertical-align: top;\n",
       "    }\n",
       "\n",
       "    .dataframe thead tr th {\n",
       "        text-align: left;\n",
       "    }\n",
       "\n",
       "    .dataframe thead tr:last-of-type th {\n",
       "        text-align: right;\n",
       "    }\n",
       "</style>\n",
       "<table border=\"1\" class=\"dataframe\">\n",
       "  <thead>\n",
       "    <tr>\n",
       "      <th></th>\n",
       "      <th colspan=\"5\" halign=\"left\">price</th>\n",
       "    </tr>\n",
       "    <tr>\n",
       "      <th>body-style</th>\n",
       "      <th>convertible</th>\n",
       "      <th>hardtop</th>\n",
       "      <th>hatchback</th>\n",
       "      <th>sedan</th>\n",
       "      <th>wagon</th>\n",
       "    </tr>\n",
       "    <tr>\n",
       "      <th>drive-wheels</th>\n",
       "      <th></th>\n",
       "      <th></th>\n",
       "      <th></th>\n",
       "      <th></th>\n",
       "      <th></th>\n",
       "    </tr>\n",
       "  </thead>\n",
       "  <tbody>\n",
       "    <tr>\n",
       "      <th>4wd</th>\n",
       "      <td>NaN</td>\n",
       "      <td>NaN</td>\n",
       "      <td>7603.000000</td>\n",
       "      <td>12647.333333</td>\n",
       "      <td>9095.750000</td>\n",
       "    </tr>\n",
       "    <tr>\n",
       "      <th>fwd</th>\n",
       "      <td>11595.0</td>\n",
       "      <td>8249.000000</td>\n",
       "      <td>8396.387755</td>\n",
       "      <td>9811.800000</td>\n",
       "      <td>9997.333333</td>\n",
       "    </tr>\n",
       "    <tr>\n",
       "      <th>rwd</th>\n",
       "      <td>23949.6</td>\n",
       "      <td>24202.714286</td>\n",
       "      <td>14337.777778</td>\n",
       "      <td>21711.833333</td>\n",
       "      <td>16994.222222</td>\n",
       "    </tr>\n",
       "  </tbody>\n",
       "</table>\n",
       "</div>"
      ],
      "text/plain": [
       "                   price                                            \\\n",
       "body-style   convertible       hardtop     hatchback         sedan   \n",
       "drive-wheels                                                         \n",
       "4wd                  NaN           NaN   7603.000000  12647.333333   \n",
       "fwd              11595.0   8249.000000   8396.387755   9811.800000   \n",
       "rwd              23949.6  24202.714286  14337.777778  21711.833333   \n",
       "\n",
       "                            \n",
       "body-style           wagon  \n",
       "drive-wheels                \n",
       "4wd            9095.750000  \n",
       "fwd            9997.333333  \n",
       "rwd           16994.222222  "
      ]
     },
     "execution_count": 35,
     "metadata": {},
     "output_type": "execute_result"
    }
   ],
   "source": [
    "cars_pivot = cars_grp.pivot(index = 'drive-wheels', columns='body-style')\n",
    "cars_pivot"
   ]
  },
  {
   "cell_type": "markdown",
   "metadata": {},
   "source": [
    "<div style=\"font-family:courier\">\n",
    "<h2> Visualize with heat plots </h2>\n",
    "\n",
    "<p> Heat maps take a rectangular grid of data and assigns a color intensity based on the data value at the grid points. It is a great way to plot target variables over multiple variables and throught this get visual clues with the relationship btw these variables and the target. </p>\n",
    "    \n",
    "</div>"
   ]
  },
  {
   "cell_type": "code",
   "execution_count": 36,
   "metadata": {},
   "outputs": [
    {
     "data": {
      "image/png": "[encoded data removed]",
      "text/plain": [
       "<Figure size 432x288 with 2 Axes>"
      ]
     },
     "metadata": {
      "needs_background": "light"
     },
     "output_type": "display_data"
    }
   ],
   "source": [
    "plt.pcolor(cars_pivot, cmap=\"RdBu\")\n",
    "plt.colorbar()\n",
    "plt.show()"
   ]
  },
  {
   "cell_type": "markdown",
   "metadata": {},
   "source": [
    "<div style=\"font-family:courier\">\n",
    "\n",
    "<h1> Correlation </h1>\n",
    "\n",
    "<p> Correlation is a statistical metric for measurung to what extent different variables are interdependent. </p>\n",
    "<p> In other words, when we look at two variables over time, if one variable changes how does this change affect change in the other variable </p>\n",
    "    \n",
    "</div>"
   ]
  },
  {
   "cell_type": "markdown",
   "metadata": {},
   "source": [
    "#  Lets look at the correlation btw engine size and price"
   ]
  },
  {
   "cell_type": "code",
   "execution_count": 77,
   "metadata": {},
   "outputs": [
    {
     "data": {
      "text/plain": [
       "(0.0, 52530.11050318626)"
      ]
     },
     "execution_count": 77,
     "metadata": {},
     "output_type": "execute_result"
    },
    {
     "data": {
      "image/png": "[encoded data removed]",
      "text/plain": [
       "<Figure size 432x288 with 1 Axes>"
      ]
     },
     "metadata": {
      "needs_background": "light"
     },
     "output_type": "display_data"
    }
   ],
   "source": [
    "sns.regplot(x = \"engine-size\", y = \"price\", data = cars)\n",
    "plt.ylim(0,)"
   ]
  },
  {
   "cell_type": "markdown",
   "metadata": {},
   "source": [
    "<p style=\"font-family:verdana\"> As we can see there is a positive linear relationship btw engine size and price</p>"
   ]
  },
  {
   "cell_type": "markdown",
   "metadata": {},
   "source": [
    "# Let's also look at the correlation between the highway-mpg and  price "
   ]
  },
  {
   "cell_type": "code",
   "execution_count": 80,
   "metadata": {},
   "outputs": [
    {
     "data": {
      "text/plain": [
       "(0.0, 48124.73202304936)"
      ]
     },
     "execution_count": 80,
     "metadata": {},
     "output_type": "execute_result"
    },
    {
     "data": {
      "image/png": "[encoded data removed]",
      "text/plain": [
       "<Figure size 432x288 with 1 Axes>"
      ]
     },
     "metadata": {
      "needs_background": "light"
     },
     "output_type": "display_data"
    }
   ],
   "source": [
    "sns.regplot(x = \"highway-mpg\", y = \"price\", data = cars)\n",
    "plt.ylim(0,)"
   ]
  },
  {
   "cell_type": "markdown",
   "metadata": {},
   "source": [
    "<div style=\"font-family:courier\">\n",
    "\n",
    "<p> There is a negative linear relationship btw highway-mpg and price </p>\n",
    "<p> Althogh this relationship is negative, the slope of the line is steep which means that the highway-mpg is still a good predictor of price </p>\n",
    "\n",
    "</div>"
   ]
  },
  {
   "cell_type": "markdown",
   "metadata": {},
   "source": [
    "<div style=\"font-family:courier\">\n",
    "    \n",
    "<h3> Finally, we have an example of a weak correlation.</h3> \n",
    "<p> For example, both low peak RPM and high values of pesk RPM have low and high prices. Therefore we cannot use RPM to predict price</p>\n",
    "    \n",
    "</div>    "
   ]
  },
  {
   "cell_type": "markdown",
   "metadata": {},
   "source": [
    "<h3 style=\"font-family:courier\"> Preparing the variables </h3>"
   ]
  },
  {
   "cell_type": "code",
   "execution_count": 78,
   "metadata": {},
   "outputs": [],
   "source": [
    "# replacing missing variables by the mean\n",
    "\n",
    "cars['highway-mpg'] = cars['highway-mpg'].replace('?', 1)\n",
    "cars['highway-mpg'] = cars['highway-mpg'].astype(int)\n",
    "cars['highway-mpg'] = cars['highway-mpg'].replace(1, np.nan)\n",
    "mean_mpg = cars['highway-mpg'].mean()\n",
    "cars['highway-mpg'] = cars['highway-mpg'].replace(np.nan, mean_mpg)"
   ]
  },
  {
   "cell_type": "code",
   "execution_count": 79,
   "metadata": {},
   "outputs": [],
   "source": [
    "# replacing missing variables by the mean\n",
    "\n",
    "cars['peak-rpm'] = cars['peak-rpm'].replace('?', 1) \n",
    "cars['peak-rpm'] = cars['peak-rpm'].astype(int)\n",
    "cars['peak-rpm'] = cars['peak-rpm'].replace(1, np.nan) \n",
    "mean_rpm = cars['peak-rpm'].mean()\n",
    "cars['peak-rpm'] = cars['peak-rpm'].replace(np.nan, mean_rpm)"
   ]
  },
  {
   "cell_type": "code",
   "execution_count": 81,
   "metadata": {
    "scrolled": true
   },
   "outputs": [
    {
     "data": {
      "text/plain": [
       "(0.0, 47414.1)"
      ]
     },
     "execution_count": 81,
     "metadata": {},
     "output_type": "execute_result"
    },
    {
     "data": {
      "image/png": "[encoded data removed]",
      "text/plain": [
       "<Figure size 432x288 with 1 Axes>"
      ]
     },
     "metadata": {
      "needs_background": "light"
     },
     "output_type": "display_data"
    }
   ],
   "source": [
    "sns.regplot(x='peak-rpm', y='price', data= cars)\n",
    "plt.ylim(0,)"
   ]
  },
  {
   "cell_type": "markdown",
   "metadata": {
    "tags": []
   },
   "source": [
    "<h1 style=\"font-family:verdana\"> Correlation-- Statistic</h1> "
   ]
  },
  {
   "cell_type": "markdown",
   "metadata": {},
   "source": [
    "<div style=\"font-family:courier\">\n",
    "<h2> Pearson Correlation</h2>\n",
    "<p> Measure the strength of the correlation btw features. </p>\n",
    "<ul>\n",
    "    <li> Correlation coefficient</li>\n",
    "    <li> P-value</li>\n",
    "</ul>  \n",
    "\n",
    "<p> Correlation coefficient</p>\n",
    "\n",
    "<ul>\n",
    "    <li> Close to +1: Large Positive relationship</li>\n",
    "    <li> Close to -1: Large Negative relationship</li>\n",
    "    <li> Close to 0: No relationship</li>\n",
    "</ul>\n",
    "\n",
    "<h2> P-value</h2>\n",
    "<p> The p-value will tell us how certain we are about the correlation that we calculated</p>\n",
    "<ul> \n",
    "    <li> P-value less than 0.001: Strong certainty in the result</li>\n",
    "    <li> P-value less than 0.05: Moderate certainty in the result</li>\n",
    "    <li> P-value less than 0.1: Weak certainty in the result</li>\n",
    "    <li> P-value greater than 0.1: No certainty in the result</li>\n",
    "</ul>\n",
    "\n",
    "<h2> Strong correlation</h2>\n",
    "<ul>\n",
    "    <li> Correlation coefficient close to 1 or -1</li>\n",
    "    <li> P-value less than 0.001</li>\n",
    "</ul>\n",
    "</div>    "
   ]
  },
  {
   "cell_type": "markdown",
   "metadata": {},
   "source": [
    "<p style=\"font-family:verdana\"> In this example we want to look at the correlation btw the variables, hourse power and price </p> "
   ]
  },
  {
   "cell_type": "code",
   "execution_count": 90,
   "metadata": {},
   "outputs": [
    {
     "name": "stdout",
     "output_type": "stream",
     "text": [
      "The pearson coeficient is -0.6905257341183486\n",
      "The p_value is 2.2324674058375885e-30\n"
     ]
    }
   ],
   "source": [
    "pearson_coef, p_values = stats.pearsonr(cars['highway-mpg'], cars['price'])\n",
    "\n",
    "print(r'The pearson coeficient is {}'.format(pearson_coef))\n",
    "print(r'The p_value is {}'.format(p_values))"
   ]
  },
  {
   "cell_type": "markdown",
   "metadata": {},
   "source": [
    "<div style=\"font-family:courier\">\n",
    "<h1> Model Development</h1>\n",
    "\n",
    "<p> In this module we will learn about:</p>\n",
    "\n",
    "<ol>\n",
    "    <li>Simple and Multiple Linear Regression </li>\n",
    "    <li> Model Evaluation using Visualization</li>\n",
    "    <li> Polynomial Regression and Pipelines</li>\n",
    "    <li> R-squared and MSE for In-Sample Evaluation</li>\n",
    "    <li> Prediction and Dcesion Making</li>\n",
    "</ol> \n",
    "\n",
    "<h2> Question</h2>\n",
    "<p> How can you determine a fair value for a used car ?</p>\n",
    "</div>"
   ]
  },
  {
   "cell_type": "markdown",
   "metadata": {},
   "source": [
    "<div style=\"font-family:courier\">\n",
    "<h3> Model Dev. cont</h3>\n",
    "\n",
    "<ul>\n",
    "    <li> A model can be thought of as a mathematical equation used to predict a value given one or more other values </li>\n",
    "    <li> Relating one or more independent variables to dependent variables</li>\n",
    "    <li> In this course we shall learn about:\n",
    "        <ul>\n",
    "            <li> Simple Linear Regression</li>\n",
    "            <li> Multiple Linear Regression</li>\n",
    "            <li> Polynomial Regression</li>\n",
    "        </ul>\n",
    "    </li>\n",
    "    \n",
    "</ul>\n",
    "</div>"
   ]
  },
  {
   "cell_type": "markdown",
   "metadata": {},
   "source": [
    "<h1 style=\"font-family:courier\"> Linear Regression and Multiple Linear Regression </h1>\n",
    "\n",
    "<h2 style=\"font-family:courier\"> Introduction </h2>\n",
    "    \n",
    "<ul style=\"font-family:courier\"> \n",
    "        <li> Linear regression will refer to one independent variable to make a prediction </li>\n",
    "        <li> Multiple Linear Regression will refer to multiple independent variables to make a prediction </li>\n",
    "</ul> \n",
    "    \n",
    "<h1 style=\"font-family:courier\"> Simple Linear Regression {S.L.R} </h1> \n",
    "        <ol style=\"font-family:courier\">\n",
    "            <li> The predictor (independent) variable- x </li>\n",
    "            <li> The target (dependent) variable- y </li> \n",
    "            </ol>\n",
    "                \n",
    "<p style=\"font-family:courier\"> We would like to come up with a linear relationship such that: y = b0 + b1.x </p>\n",
    "                <ul style=\"font-family:courier\"> \n",
    "                    <li> b0: the intercept</li>\n",
    "                    <li> b1: the slope</li>\n",
    "                </ul>\n",
    "               "
   ]
  },
  {
   "cell_type": "markdown",
   "metadata": {},
   "source": [
    "<div style=\"font-family:courier\"> \n",
    "    <h1>Fitting a Simple Linear Model Estimator </h1>\n",
    "    <ol>\n",
    "        <li> X: Predictor variable </li>\n",
    "        <li> Y: Target variable </li>\n",
    "    </ol>\n",
    "    <ul>\n",
    "        <li> Import linear_model from scikit-learn : from sklearn_model import LinearRegression </li> \n",
    "        <li> Create a Linear Regression Object using the constructor: lm = LinearRegression() </li>\n",
    "    </ul>\n",
    "</div>"
   ]
  },
  {
   "cell_type": "code",
   "execution_count": 91,
   "metadata": {},
   "outputs": [],
   "source": [
    "from sklearn.linear_model import LinearRegression "
   ]
  },
  {
   "cell_type": "code",
   "execution_count": 92,
   "metadata": {},
   "outputs": [],
   "source": [
    "lm = LinearRegression()"
   ]
  },
  {
   "cell_type": "markdown",
   "metadata": {},
   "source": [
    "<h2 style=\"font-family:courier\"> We define the predictor variable and target variable </h2>"
   ]
  },
  {
   "cell_type": "code",
   "execution_count": 93,
   "metadata": {},
   "outputs": [],
   "source": [
    "X = cars[['highway-mpg']]\n",
    "Y = cars['price']"
   ]
  },
  {
   "cell_type": "markdown",
   "metadata": {},
   "source": [
    "<h2 style=\"font-family:courier\"> Then use lm.fit to fit the model, i.e fine the parameters b0 and b1 </h2>"
   ]
  },
  {
   "cell_type": "code",
   "execution_count": 94,
   "metadata": {},
   "outputs": [
    {
     "data": {
      "text/html": [
       "<style>#sk-container-id-1 {color: black;background-color: white;}#sk-container-id-1 pre{padding: 0;}#sk-container-id-1 div.sk-toggleable {background-color: white;}#sk-container-id-1 label.sk-toggleable__label {cursor: pointer;display: block;width: 100%;margin-bottom: 0;padding: 0.3em;box-sizing: border-box;text-align: center;}#sk-container-id-1 label.sk-toggleable__label-arrow:before {content: \"▸\";float: left;margin-right: 0.25em;color: #696969;}#sk-container-id-1 label.sk-toggleable__label-arrow:hover:before {color: black;}#sk-container-id-1 div.sk-estimator:hover label.sk-toggleable__label-arrow:before {color: black;}#sk-container-id-1 div.sk-toggleable__content {max-height: 0;max-width: 0;overflow: hidden;text-align: left;background-color: #f0f8ff;}#sk-container-id-1 div.sk-toggleable__content pre {margin: 0.2em;color: black;border-radius: 0.25em;background-color: #f0f8ff;}#sk-container-id-1 input.sk-toggleable__control:checked~div.sk-toggleable__content {max-height: 200px;max-width: 100%;overflow: auto;}#sk-container-id-1 input.sk-toggleable__control:checked~label.sk-toggleable__label-arrow:before {content: \"▾\";}#sk-container-id-1 div.sk-estimator input.sk-toggleable__control:checked~label.sk-toggleable__label {background-color: #d4ebff;}#sk-container-id-1 div.sk-label input.sk-toggleable__control:checked~label.sk-toggleable__label {background-color: #d4ebff;}#sk-container-id-1 input.sk-hidden--visually {border: 0;clip: rect(1px 1px 1px 1px);clip: rect(1px, 1px, 1px, 1px);height: 1px;margin: -1px;overflow: hidden;padding: 0;position: absolute;width: 1px;}#sk-container-id-1 div.sk-estimator {font-family: monospace;background-color: #f0f8ff;border: 1px dotted black;border-radius: 0.25em;box-sizing: border-box;margin-bottom: 0.5em;}#sk-container-id-1 div.sk-estimator:hover {background-color: #d4ebff;}#sk-container-id-1 div.sk-parallel-item::after {content: \"\";width: 100%;border-bottom: 1px solid gray;flex-grow: 1;}#sk-container-id-1 div.sk-label:hover label.sk-toggleable__label {background-color: #d4ebff;}#sk-container-id-1 div.sk-serial::before {content: \"\";position: absolute;border-left: 1px solid gray;box-sizing: border-box;top: 0;bottom: 0;left: 50%;z-index: 0;}#sk-container-id-1 div.sk-serial {display: flex;flex-direction: column;align-items: center;background-color: white;padding-right: 0.2em;padding-left: 0.2em;position: relative;}#sk-container-id-1 div.sk-item {position: relative;z-index: 1;}#sk-container-id-1 div.sk-parallel {display: flex;align-items: stretch;justify-content: center;background-color: white;position: relative;}#sk-container-id-1 div.sk-item::before, #sk-container-id-1 div.sk-parallel-item::before {content: \"\";position: absolute;border-left: 1px solid gray;box-sizing: border-box;top: 0;bottom: 0;left: 50%;z-index: -1;}#sk-container-id-1 div.sk-parallel-item {display: flex;flex-direction: column;z-index: 1;position: relative;background-color: white;}#sk-container-id-1 div.sk-parallel-item:first-child::after {align-self: flex-end;width: 50%;}#sk-container-id-1 div.sk-parallel-item:last-child::after {align-self: flex-start;width: 50%;}#sk-container-id-1 div.sk-parallel-item:only-child::after {width: 0;}#sk-container-id-1 div.sk-dashed-wrapped {border: 1px dashed gray;margin: 0 0.4em 0.5em 0.4em;box-sizing: border-box;padding-bottom: 0.4em;background-color: white;}#sk-container-id-1 div.sk-label label {font-family: monospace;font-weight: bold;display: inline-block;line-height: 1.2em;}#sk-container-id-1 div.sk-label-container {text-align: center;}#sk-container-id-1 div.sk-container {/* jupyter's `normalize.less` sets `[hidden] { display: none; }` but bootstrap.min.css set `[hidden] { display: none !important; }` so we also need the `!important` here to be able to override the default hidden behavior on the sphinx rendered scikit-learn.org. See: https://github.com/scikit-learn/scikit-learn/issues/21755 */display: inline-block !important;position: relative;}#sk-container-id-1 div.sk-text-repr-fallback {display: none;}</style><div id=\"sk-container-id-1\" class=\"sk-top-container\"><div class=\"sk-text-repr-fallback\"><pre>LinearRegression()</pre><b>In a Jupyter environment, please rerun this cell to show the HTML representation or trust the notebook. <br />On GitHub, the HTML representation is unable to render, please try loading this page with nbviewer.org.</b></div><div class=\"sk-container\" hidden><div class=\"sk-item\"><div class=\"sk-estimator sk-toggleable\"><input class=\"sk-toggleable__control sk-hidden--visually\" id=\"sk-estimator-id-1\" type=\"checkbox\" checked><label for=\"sk-estimator-id-1\" class=\"sk-toggleable__label sk-toggleable__label-arrow\">LinearRegression</label><div class=\"sk-toggleable__content\"><pre>LinearRegression()</pre></div></div></div></div></div>"
      ],
      "text/plain": [
       "LinearRegression()"
      ]
     },
     "execution_count": 94,
     "metadata": {},
     "output_type": "execute_result"
    }
   ],
   "source": [
    "lm.fit(X, Y)"
   ]
  },
  {
   "cell_type": "markdown",
   "metadata": {},
   "source": [
    "<h2 style=\"font-family:courier\"> We can obtain a prediction </h2>"
   ]
  },
  {
   "cell_type": "code",
   "execution_count": 95,
   "metadata": {},
   "outputs": [],
   "source": [
    "Yhat = lm.predict(X)"
   ]
  },
  {
   "cell_type": "markdown",
   "metadata": {},
   "source": [
    "<h2 style=\"font-family:courier\"> We can view the intercept (b0): </h2>"
   ]
  },
  {
   "cell_type": "code",
   "execution_count": 96,
   "metadata": {},
   "outputs": [
    {
     "data": {
      "text/plain": [
       "37470.66014138312"
      ]
     },
     "execution_count": 96,
     "metadata": {},
     "output_type": "execute_result"
    }
   ],
   "source": [
    "lm.intercept_"
   ]
  },
  {
   "cell_type": "markdown",
   "metadata": {},
   "source": [
    "<h2 style=\"font-family:courier\"> We can also view the slope (b1): </h2>"
   ]
  },
  {
   "cell_type": "code",
   "execution_count": 97,
   "metadata": {},
   "outputs": [
    {
     "data": {
      "text/plain": [
       "array([-789.02661986])"
      ]
     },
     "execution_count": 97,
     "metadata": {},
     "output_type": "execute_result"
    }
   ],
   "source": [
    "lm.coef_"
   ]
  },
  {
   "cell_type": "markdown",
   "metadata": {},
   "source": [
    "<div style=\"font-family:courier\"> \n",
    "<h2> The Relationship btw Price and Highway MPG is given by: </h2>\n",
    "<p> Price(Y) = 37758.48 - 806.77*highway-mpg </p>\n",
    "<p> Y = b0 + b1*X </p>\n",
    "    </div>"
   ]
  },
  {
   "cell_type": "markdown",
   "metadata": {},
   "source": [
    "<div style=\"font-family:courier\"> \n",
    "    <h1> Multiple Linear Regression (MLR) </h1>\n",
    "    <p> This method is used to explain the relationship between: </p>\n",
    "    <ul> \n",
    "        <li> One continous target (Y) variable </li>\n",
    "        <li> Two or more predictor (X) variables </li>\n",
    "    </ul>\n",
    "    \n",
    "<p> If we have four (4) predictor variables, our linear relationship will look like this:  Y = b0 + b1X1 + b2X2 + b3X3 + b4X4 </p>\n",
    "    <ul>\n",
    "        <li> b0: intercept (X0) </li> \n",
    "        <li> b1: the coefficient of parameter X1 </li> \n",
    "        <li> b2: the coefficient of parameter X2 and so on... </li>\n",
    "    </ul>\n",
    "    \n",
    "<p> Considering that there are only two predictor variables, our linear regression could be: Y = 1 + 2X1 + 3X2 </p> \n",
    "    \n",
    "    \n",
    "</div>\n",
    "    "
   ]
  },
  {
   "cell_type": "markdown",
   "metadata": {},
   "source": [
    "<div style=\"font-family:courier\"> \n",
    "    <h1> Fitting a Multiple Linear Model Estimator </h1>\n",
    "    <ol>  \n",
    "        <li> We can extract the 4 predictor variables and store them in the variable Z</li>\n",
    "    </ol>\n",
    "</div>"
   ]
  },
  {
   "cell_type": "code",
   "execution_count": 103,
   "metadata": {},
   "outputs": [],
   "source": [
    "Z= cars[[\"horsepower\", \"curb-weight\", \"engine-size\", \"highway-mpg\"]]"
   ]
  },
  {
   "cell_type": "markdown",
   "metadata": {},
   "source": [
    "<h2 style=\"font-family:courier\"> Then train the model as before: </h2>"
   ]
  },
  {
   "cell_type": "code",
   "execution_count": 104,
   "metadata": {},
   "outputs": [
    {
     "data": {
      "text/html": [
       "<style>#sk-container-id-2 {color: black;background-color: white;}#sk-container-id-2 pre{padding: 0;}#sk-container-id-2 div.sk-toggleable {background-color: white;}#sk-container-id-2 label.sk-toggleable__label {cursor: pointer;display: block;width: 100%;margin-bottom: 0;padding: 0.3em;box-sizing: border-box;text-align: center;}#sk-container-id-2 label.sk-toggleable__label-arrow:before {content: \"▸\";float: left;margin-right: 0.25em;color: #696969;}#sk-container-id-2 label.sk-toggleable__label-arrow:hover:before {color: black;}#sk-container-id-2 div.sk-estimator:hover label.sk-toggleable__label-arrow:before {color: black;}#sk-container-id-2 div.sk-toggleable__content {max-height: 0;max-width: 0;overflow: hidden;text-align: left;background-color: #f0f8ff;}#sk-container-id-2 div.sk-toggleable__content pre {margin: 0.2em;color: black;border-radius: 0.25em;background-color: #f0f8ff;}#sk-container-id-2 input.sk-toggleable__control:checked~div.sk-toggleable__content {max-height: 200px;max-width: 100%;overflow: auto;}#sk-container-id-2 input.sk-toggleable__control:checked~label.sk-toggleable__label-arrow:before {content: \"▾\";}#sk-container-id-2 div.sk-estimator input.sk-toggleable__control:checked~label.sk-toggleable__label {background-color: #d4ebff;}#sk-container-id-2 div.sk-label input.sk-toggleable__control:checked~label.sk-toggleable__label {background-color: #d4ebff;}#sk-container-id-2 input.sk-hidden--visually {border: 0;clip: rect(1px 1px 1px 1px);clip: rect(1px, 1px, 1px, 1px);height: 1px;margin: -1px;overflow: hidden;padding: 0;position: absolute;width: 1px;}#sk-container-id-2 div.sk-estimator {font-family: monospace;background-color: #f0f8ff;border: 1px dotted black;border-radius: 0.25em;box-sizing: border-box;margin-bottom: 0.5em;}#sk-container-id-2 div.sk-estimator:hover {background-color: #d4ebff;}#sk-container-id-2 div.sk-parallel-item::after {content: \"\";width: 100%;border-bottom: 1px solid gray;flex-grow: 1;}#sk-container-id-2 div.sk-label:hover label.sk-toggleable__label {background-color: #d4ebff;}#sk-container-id-2 div.sk-serial::before {content: \"\";position: absolute;border-left: 1px solid gray;box-sizing: border-box;top: 0;bottom: 0;left: 50%;z-index: 0;}#sk-container-id-2 div.sk-serial {display: flex;flex-direction: column;align-items: center;background-color: white;padding-right: 0.2em;padding-left: 0.2em;position: relative;}#sk-container-id-2 div.sk-item {position: relative;z-index: 1;}#sk-container-id-2 div.sk-parallel {display: flex;align-items: stretch;justify-content: center;background-color: white;position: relative;}#sk-container-id-2 div.sk-item::before, #sk-container-id-2 div.sk-parallel-item::before {content: \"\";position: absolute;border-left: 1px solid gray;box-sizing: border-box;top: 0;bottom: 0;left: 50%;z-index: -1;}#sk-container-id-2 div.sk-parallel-item {display: flex;flex-direction: column;z-index: 1;position: relative;background-color: white;}#sk-container-id-2 div.sk-parallel-item:first-child::after {align-self: flex-end;width: 50%;}#sk-container-id-2 div.sk-parallel-item:last-child::after {align-self: flex-start;width: 50%;}#sk-container-id-2 div.sk-parallel-item:only-child::after {width: 0;}#sk-container-id-2 div.sk-dashed-wrapped {border: 1px dashed gray;margin: 0 0.4em 0.5em 0.4em;box-sizing: border-box;padding-bottom: 0.4em;background-color: white;}#sk-container-id-2 div.sk-label label {font-family: monospace;font-weight: bold;display: inline-block;line-height: 1.2em;}#sk-container-id-2 div.sk-label-container {text-align: center;}#sk-container-id-2 div.sk-container {/* jupyter's `normalize.less` sets `[hidden] { display: none; }` but bootstrap.min.css set `[hidden] { display: none !important; }` so we also need the `!important` here to be able to override the default hidden behavior on the sphinx rendered scikit-learn.org. See: https://github.com/scikit-learn/scikit-learn/issues/21755 */display: inline-block !important;position: relative;}#sk-container-id-2 div.sk-text-repr-fallback {display: none;}</style><div id=\"sk-container-id-2\" class=\"sk-top-container\"><div class=\"sk-text-repr-fallback\"><pre>LinearRegression()</pre><b>In a Jupyter environment, please rerun this cell to show the HTML representation or trust the notebook. <br />On GitHub, the HTML representation is unable to render, please try loading this page with nbviewer.org.</b></div><div class=\"sk-container\" hidden><div class=\"sk-item\"><div class=\"sk-estimator sk-toggleable\"><input class=\"sk-toggleable__control sk-hidden--visually\" id=\"sk-estimator-id-2\" type=\"checkbox\" checked><label for=\"sk-estimator-id-2\" class=\"sk-toggleable__label sk-toggleable__label-arrow\">LinearRegression</label><div class=\"sk-toggleable__content\"><pre>LinearRegression()</pre></div></div></div></div></div>"
      ],
      "text/plain": [
       "LinearRegression()"
      ]
     },
     "execution_count": 104,
     "metadata": {},
     "output_type": "execute_result"
    }
   ],
   "source": [
    "lm.fit(Z, cars['price'])"
   ]
  },
  {
   "cell_type": "markdown",
   "metadata": {},
   "source": [
    "<h2 style=\"font-family:courier\"> We can also obtain a prediction by </h2>"
   ]
  },
  {
   "cell_type": "code",
   "execution_count": 105,
   "metadata": {},
   "outputs": [],
   "source": [
    "Yhat2 = lm.predict(Z)"
   ]
  },
  {
   "cell_type": "markdown",
   "metadata": {},
   "source": [
    "<h2 style=\"font-family:courier\"> Find the intercept (b0)</h2>"
   ]
  },
  {
   "cell_type": "code",
   "execution_count": 106,
   "metadata": {},
   "outputs": [
    {
     "data": {
      "text/plain": [
       "-9239.379970934515"
      ]
     },
     "execution_count": 106,
     "metadata": {},
     "output_type": "execute_result"
    }
   ],
   "source": [
    "lm.intercept_"
   ]
  },
  {
   "cell_type": "markdown",
   "metadata": {},
   "source": [
    "<h2 style=\"font-family:courier\"> Find the coefficients (b1, b2, b3, b4) </h2>"
   ]
  },
  {
   "cell_type": "code",
   "execution_count": 107,
   "metadata": {},
   "outputs": [
    {
     "data": {
      "text/plain": [
       "array([ 18.12178086,   3.80596513, 101.121117  , -65.10968116])"
      ]
     },
     "execution_count": 107,
     "metadata": {},
     "output_type": "execute_result"
    }
   ],
   "source": [
    "lm.coef_"
   ]
  },
  {
   "cell_type": "markdown",
   "metadata": {},
   "source": [
    "<div style=\"font-family:courier\"> \n",
    "    <h2> The Estimated Linear Model </h2>\n",
    "        <p> Price = -9239.37 + (18.12) * horsepower + (3.8) * curb-weight + (101.1) * engine-size + (-65.1) * highway-mpg\n",
    "</div>"
   ]
  },
  {
   "cell_type": "markdown",
   "metadata": {},
   "source": [
    "<div style=\"font-family:courier\"> \n",
    "    <h1> Model Evaluation Using Visualization </h1>\n",
    "</div>"
   ]
  },
  {
   "cell_type": "markdown",
   "metadata": {},
   "source": [
    "<div style=\"font-family:courier\">\n",
    "    <h2> Regression Plot </h2>\n",
    "    <p> Why use regression plot </p>\n",
    "    <p> It gives us a good estimate of: </p>\n",
    "    <ol>\n",
    "        <li> The relationship btw two variables </li>\n",
    "        <li> The strength of the correlation </li>\n",
    "        <li> The direction of the relationship (positive or negative) </li>\n",
    "    </ol>\n",
    "\n",
    "<p> Regression Plot shows us a combination of: </p>\n",
    "<ul>\n",
    "    <li> The scatterplot: where each point represents a different y </li>\n",
    "    <li> The fitted linear regression line </li>\n",
    "</ul>\n",
    "</div>"
   ]
  },
  {
   "cell_type": "code",
   "execution_count": 108,
   "metadata": {},
   "outputs": [
    {
     "data": {
      "text/plain": [
       "(0.0, 48128.74169537459)"
      ]
     },
     "execution_count": 108,
     "metadata": {},
     "output_type": "execute_result"
    },
    {
     "data": {
      "image/png": "[encoded data removed]",
      "text/plain": [
       "<Figure size 432x288 with 1 Axes>"
      ]
     },
     "metadata": {
      "needs_background": "light"
     },
     "output_type": "display_data"
    }
   ],
   "source": [
    "### Example \n",
    "\n",
    "sns.regplot(x=\"highway-mpg\", y=\"price\", data=cars)\n",
    "plt.ylim(0,)"
   ]
  },
  {
   "cell_type": "markdown",
   "metadata": {},
   "source": [
    "<div style=\"font-family:courier\"> \n",
    "    <h1> Residual Plot </h1> \n",
    "     <p> The residual plot represents the error between the actual value. By examing the predicted value and actual value we see a differnce. We obtain that value by subtracting the predicted value from the actual value. We the plot that value on the vertical axis with an independent variable as the horizontal axis. Similarly, for the second sample we repeat the process. Looking at the new plot gives some insight into our data. We expect to see the results have zero mean, distributed evenly along the x axis with similar variance, there is no curvature. This type of residual plot suggests a linear plot is appropriate. </p>\n",
    "</div>"
   ]
  },
  {
   "cell_type": "code",
   "execution_count": 113,
   "metadata": {},
   "outputs": [
    {
     "data": {
      "text/plain": [
       "<AxesSubplot:ylabel='price'>"
      ]
     },
     "execution_count": 113,
     "metadata": {},
     "output_type": "execute_result"
    },
    {
     "data": {
      "image/png": "[encoded data removed]",
      "text/plain": [
       "<Figure size 432x288 with 1 Axes>"
      ]
     },
     "metadata": {
      "needs_background": "light"
     },
     "output_type": "display_data"
    }
   ],
   "source": [
    "### Example \n",
    "\n",
    "sns.residplot(x = Yhat2, y = cars['price'])"
   ]
  },
  {
   "cell_type": "markdown",
   "metadata": {},
   "source": [
    "<div style=\"font-family:courier\"> \n",
    "    <h1> Distribution Plot </h1>\n",
    "    <p> A distribution plot counts the predicted value versus the actual value. These plot are extremely useful in visualizing models with more than one independent variables </p>\n",
    "</div>"
   ]
  },
  {
   "cell_type": "code",
   "execution_count": 118,
   "metadata": {},
   "outputs": [
    {
     "data": {
      "text/plain": [
       "<AxesSubplot:xlabel='price', ylabel='Density'>"
      ]
     },
     "execution_count": 118,
     "metadata": {},
     "output_type": "execute_result"
    },
    {
     "data": {
      "image/png": "[encoded data removed]",
      "text/plain": [
       "<Figure size 432x288 with 1 Axes>"
      ]
     },
     "metadata": {
      "needs_background": "light"
     },
     "output_type": "display_data"
    }
   ],
   "source": [
    "### Example\n",
    "\n",
    "ax1 = sns.distplot(cars['price'], hist=False, color=\"r\", label=\"Actual Value\")\n",
    "\n",
    "sns.distplot(Yhat, hist=False, color=\"b\", label=\"Fitted Value\", ax = ax1)"
   ]
  },
  {
   "cell_type": "markdown",
   "metadata": {},
   "source": [
    "<div style=\"font-family:courier\"> \n",
    "    <h2> Polynomial Regression and Pipelines </h2> \n",
    "    <h3> Polynomial Regressions </h3>\n",
    "    <ul>\n",
    "        <li> A special case of the general linear regression model</li>\n",
    "        <li> Useful for describing curvilinear relationships</li>\n",
    "    </ul>\n",
    "    \n",
    "<h3> Curvilinear relationships:</h3>\n",
    "<p> By squaring or setting higher-order terms of the predictor variables </p>\n",
    "\n",
    "<p> The model can be: </p> \n",
    "<ul> \n",
    "    <li> Quadratic - 2nd order:  Y = b0 + b1X1 + b2(X2)^2</li>\n",
    "         <li> Cubic - 3rd order: Y = b0 + b1X1 + b2(X2)^2 + b3(X3)^3</li>\n",
    "</ul>\n",
    "\n",
    "    \n",
    "  \n",
    "</div>"
   ]
  },
  {
   "cell_type": "markdown",
   "metadata": {},
   "source": [
    "<div style=\"font-family:courier\"> \n",
    "    <h1> Polynomial Regression with More Than One Dimension </h1>\n",
    "</div> "
   ]
  },
  {
   "cell_type": "code",
   "execution_count": 120,
   "metadata": {},
   "outputs": [],
   "source": [
    "from sklearn.preprocessing import PolynomialFeatures "
   ]
  },
  {
   "cell_type": "code",
   "execution_count": 121,
   "metadata": {
    "tags": []
   },
   "outputs": [],
   "source": [
    "pr = PolynomialFeatures(degree=2, include_bias=False)\n",
    "x_polly = pr.fit_transform(cars[['horsepower', 'curb-weight']])"
   ]
  },
  {
   "cell_type": "code",
   "execution_count": 122,
   "metadata": {},
   "outputs": [
    {
     "data": {
      "text/plain": [
       "array([[1., 2., 1., 2., 4.]])"
      ]
     },
     "execution_count": 122,
     "metadata": {},
     "output_type": "execute_result"
    }
   ],
   "source": [
    "## example \n",
    "\n",
    "pr.fit_transform([[1,2]])"
   ]
  },
  {
   "cell_type": "markdown",
   "metadata": {},
   "source": [
    "<div style=\"font-family:courier\"> \n",
    "    <h2> Pre-processing </h2>\n",
    "    <p> As the dimension of the data becomes bigger, we may want to normalize multiple features in scikit learn. Instead we can use the pre-processing module to simplify many tasks. </p>\n",
    "    <p> For example we can standardize each feature simultaneously </p>\n",
    "</div>"
   ]
  },
  {
   "cell_type": "code",
   "execution_count": 123,
   "metadata": {},
   "outputs": [],
   "source": [
    "from sklearn.preprocessing import StandardScaler"
   ]
  },
  {
   "cell_type": "code",
   "execution_count": 124,
   "metadata": {},
   "outputs": [],
   "source": [
    "SCALE = StandardScaler()\n",
    "SCALE.fit(cars[['horsepower', 'highway-mpg']])\n",
    "\n",
    "x_scale = SCALE.transform(cars[['horsepower', 'highway-mpg']])"
   ]
  },
  {
   "cell_type": "code",
   "execution_count": 125,
   "metadata": {},
   "outputs": [
    {
     "data": {
      "text/plain": [
       "array([[ 1.71064933e-01, -5.46058737e-01],\n",
       "       [ 1.71064933e-01, -5.46058737e-01],\n",
       "       [ 1.26180693e+00, -6.91627061e-01],\n",
       "       [-5.72299045e-02, -1.09353765e-01],\n",
       "       [ 2.72529305e-01, -1.27390036e+00],\n",
       "       [ 1.45698840e-01, -8.37195385e-01],\n",
       "       [ 1.45698840e-01, -8.37195385e-01],\n",
       "       [ 1.45698840e-01, -8.37195385e-01],\n",
       "       [ 9.06681632e-01, -1.56503700e+00],\n",
       "       [ 1.41400349e+00, -1.27390036e+00],\n",
       "       [-8.25959976e-02, -2.54922089e-01],\n",
       "       [-8.25959976e-02, -2.54922089e-01],\n",
       "       [ 4.24725864e-01, -4.00490413e-01],\n",
       "       [ 4.24725864e-01, -4.00490413e-01],\n",
       "       [ 4.24725864e-01, -8.37195385e-01],\n",
       "       [ 1.97205754e+00, -1.27390036e+00],\n",
       "       [ 1.97205754e+00, -1.27390036e+00],\n",
       "       [ 1.97205754e+00, -1.56503700e+00],\n",
       "       [-1.42699893e+00,  3.23871768e+00],\n",
       "       [-8.68944883e-01,  1.78303445e+00],\n",
       "       [-8.68944883e-01,  1.78303445e+00],\n",
       "       [-9.19677069e-01,  1.49189780e+00],\n",
       "       [-9.19677069e-01,  1.05519283e+00],\n",
       "       [-5.72299045e-02, -1.09353765e-01],\n",
       "       [-9.19677069e-01,  1.05519283e+00],\n",
       "       [-9.19677069e-01,  1.05519283e+00],\n",
       "       [-9.19677069e-01,  1.05519283e+00],\n",
       "       [-5.72299045e-02, -1.09353765e-01],\n",
       "       [-4.12355207e-01, -1.09353765e-01],\n",
       "       [ 1.03351210e+00, -9.82763709e-01],\n",
       "       [-1.17333800e+00,  3.38428601e+00],\n",
       "       [-7.16748324e-01,  1.05519283e+00],\n",
       "       [-1.12260581e+00,  1.63746612e+00],\n",
       "       [-7.16748324e-01,  4.72919530e-01],\n",
       "       [-7.16748324e-01,  4.72919530e-01],\n",
       "       [-7.16748324e-01,  4.72919530e-01],\n",
       "       [-7.16748324e-01,  4.72919530e-01],\n",
       "       [-4.63087394e-01,  3.27351206e-01],\n",
       "       [-4.63087394e-01,  3.27351206e-01],\n",
       "       [-4.63087394e-01,  3.27351206e-01],\n",
       "       [-4.63087394e-01,  3.27351206e-01],\n",
       "       [-8.25959976e-02, -4.00490413e-01],\n",
       "       [-1.07962091e-01,  3.62145586e-02],\n",
       "       [-6.66016138e-01, -2.54922089e-01],\n",
       "       [-8.68944883e-01,  1.78303445e+00],\n",
       "       [-8.68944883e-01,  1.78303445e+00],\n",
       "       [-3.61623021e-01, -2.54922089e-01],\n",
       "       [ 1.81986098e+00, -1.71060533e+00],\n",
       "       [ 1.81986098e+00, -1.71060533e+00],\n",
       "       [ 4.00134499e+00, -2.00174198e+00],\n",
       "       [-9.19677069e-01,  3.62145586e-02],\n",
       "       [-9.19677069e-01,  1.05519283e+00],\n",
       "       [-9.19677069e-01,  1.05519283e+00],\n",
       "       [-9.19677069e-01,  1.05519283e+00],\n",
       "       [-9.19677069e-01,  1.05519283e+00],\n",
       "       [-8.25959976e-02, -1.12833203e+00],\n",
       "       [-8.25959976e-02, -1.12833203e+00],\n",
       "       [-8.25959976e-02, -1.12833203e+00],\n",
       "       [ 7.79851167e-01, -1.12833203e+00],\n",
       "       [-5.13819580e-01,  1.81782883e-01],\n",
       "       [-5.13819580e-01,  1.81782883e-01],\n",
       "       [-5.13819580e-01,  1.81782883e-01],\n",
       "       [-5.13819580e-01,  1.81782883e-01],\n",
       "       [-1.02114144e+00,  1.63746612e+00],\n",
       "       [-5.13819580e-01,  1.81782883e-01],\n",
       "       [ 3.99359771e-01, -5.46058737e-01],\n",
       "       [-8.18212696e-01,  1.20076115e+00],\n",
       "       [ 4.75458050e-01, -8.37195385e-01],\n",
       "       [ 4.75458050e-01, -8.37195385e-01],\n",
       "       [ 4.75458050e-01, -8.37195385e-01],\n",
       "       [ 4.75458050e-01, -8.37195385e-01],\n",
       "       [ 1.28717303e+00, -1.85617365e+00],\n",
       "       [ 1.28717303e+00, -1.85617365e+00],\n",
       "       [ 2.02278973e+00, -2.14731030e+00],\n",
       "       [ 2.02278973e+00, -2.14731030e+00],\n",
       "       [ 1.79449489e+00, -9.82763709e-01],\n",
       "       [-9.19677069e-01,  1.49189780e+00],\n",
       "       [-9.19677069e-01,  1.05519283e+00],\n",
       "       [-9.19677069e-01,  1.05519283e+00],\n",
       "       [-5.72299045e-02, -1.09353765e-01],\n",
       "       [ 2.97895398e-01, -1.09353765e-01],\n",
       "       [-4.12355207e-01,  1.81782883e-01],\n",
       "       [ 1.03351210e+00, -9.82763709e-01],\n",
       "       [ 1.03351210e+00, -9.82763709e-01],\n",
       "       [ 1.03351210e+00, -9.82763709e-01],\n",
       "       [-4.12355207e-01,  1.81782883e-01],\n",
       "       [-4.12355207e-01,  1.81782883e-01],\n",
       "       [ 2.97895398e-01, -1.09353765e-01],\n",
       "       [ 2.97895398e-01, -1.09353765e-01],\n",
       "       [-8.94310976e-01,  9.09624502e-01],\n",
       "       [-1.24943628e+00,  2.80201271e+00],\n",
       "       [-8.94310976e-01,  9.09624502e-01],\n",
       "       [-8.94310976e-01,  9.09624502e-01],\n",
       "       [-8.94310976e-01,  9.09624502e-01],\n",
       "       [-8.94310976e-01,  9.09624502e-01],\n",
       "       [-8.94310976e-01,  9.09624502e-01],\n",
       "       [-8.94310976e-01,  9.09624502e-01],\n",
       "       [-8.94310976e-01,  9.09624502e-01],\n",
       "       [-8.94310976e-01,  9.09624502e-01],\n",
       "       [-1.84060370e-01,  4.72919530e-01],\n",
       "       [-1.84060370e-01,  4.72919530e-01],\n",
       "       [ 1.21107475e+00, -1.27390036e+00],\n",
       "       [ 1.21107475e+00, -1.27390036e+00],\n",
       "       [ 1.21107475e+00, -8.37195385e-01],\n",
       "       [ 1.41400349e+00, -8.37195385e-01],\n",
       "       [ 2.42864722e+00, -1.12833203e+00],\n",
       "       [ 1.41400349e+00, -8.37195385e-01],\n",
       "       [-1.84060370e-01, -9.82763709e-01],\n",
       "       [-2.34792556e-01,  3.27351206e-01],\n",
       "       [-1.84060370e-01, -9.82763709e-01],\n",
       "       [-2.34792556e-01, -8.37195385e-01],\n",
       "       [-2.34792556e-01, -9.82763709e-01],\n",
       "       [-2.34792556e-01,  3.27351206e-01],\n",
       "       [-2.34792556e-01, -9.82763709e-01],\n",
       "       [-2.34792556e-01, -8.37195385e-01],\n",
       "       [-1.84060370e-01, -9.82763709e-01],\n",
       "       [-2.34792556e-01,  3.27351206e-01],\n",
       "       [ 9.57413818e-01, -9.82763709e-01],\n",
       "       [-9.19677069e-01,  1.49189780e+00],\n",
       "       [-5.72299045e-02, -1.09353765e-01],\n",
       "       [-9.19677069e-01,  1.05519283e+00],\n",
       "       [-9.19677069e-01,  1.05519283e+00],\n",
       "       [-9.19677069e-01,  1.05519283e+00],\n",
       "       [-4.12355207e-01, -1.09353765e-01],\n",
       "       [ 1.03351210e+00, -9.82763709e-01],\n",
       "       [ 9.82779911e-01, -5.46058737e-01],\n",
       "       [ 2.60620987e+00, -8.37195385e-01],\n",
       "       [ 2.60620987e+00, -8.37195385e-01],\n",
       "       [ 2.60620987e+00, -8.37195385e-01],\n",
       "       [ 4.66086341e+00, -4.00490413e-01],\n",
       "       [ 3.60473863e-16,  3.62145586e-02],\n",
       "       [ 3.60473863e-16,  3.62145586e-02],\n",
       "       [ 1.45698840e-01, -4.00490413e-01],\n",
       "       [ 1.45698840e-01, -4.00490413e-01],\n",
       "       [ 1.45698840e-01, -4.00490413e-01],\n",
       "       [ 1.45698840e-01, -4.00490413e-01],\n",
       "       [ 1.41400349e+00, -6.91627061e-01],\n",
       "       [ 1.41400349e+00, -6.91627061e-01],\n",
       "       [-8.94310976e-01,  7.64056178e-01],\n",
       "       [-7.92846603e-01,  3.62145586e-02],\n",
       "       [-7.92846603e-01,  3.62145586e-02],\n",
       "       [-5.64551766e-01,  9.09624502e-01],\n",
       "       [-5.64551766e-01,  3.27351206e-01],\n",
       "       [-2.60158649e-01,  1.81782883e-01],\n",
       "       [-5.64551766e-01, -8.37195385e-01],\n",
       "       [ 1.71064933e-01, -2.54922089e-01],\n",
       "       [-5.64551766e-01,  1.81782883e-01],\n",
       "       [-2.60158649e-01,  3.62145586e-02],\n",
       "       [-5.64551766e-01, -2.54922089e-01],\n",
       "       [ 1.71064933e-01, -1.12833203e+00],\n",
       "       [-1.07187363e+00,  1.20076115e+00],\n",
       "       [-1.07187363e+00,  1.05519283e+00],\n",
       "       [-1.07187363e+00,  1.05519283e+00],\n",
       "       [-1.07187363e+00,  9.09624502e-01],\n",
       "       [-1.07187363e+00,  1.81782883e-01],\n",
       "       [-1.07187363e+00,  1.81782883e-01],\n",
       "       [-8.68944883e-01,  9.09624502e-01],\n",
       "       [-8.68944883e-01,  9.09624502e-01],\n",
       "       [-1.22407019e+00,  7.64056178e-01],\n",
       "       [-1.22407019e+00,  2.36530774e+00],\n",
       "       [-8.68944883e-01,  2.36530774e+00],\n",
       "       [-8.68944883e-01,  4.72919530e-01],\n",
       "       [-8.68944883e-01,  4.72919530e-01],\n",
       "       [-8.68944883e-01,  4.72919530e-01],\n",
       "       [-8.68944883e-01,  4.72919530e-01],\n",
       "       [ 1.96431026e-01, -2.54922089e-01],\n",
       "       [ 1.96431026e-01, -2.54922089e-01],\n",
       "       [ 2.97895398e-01, -1.09353765e-01],\n",
       "       [ 2.97895398e-01, -1.09353765e-01],\n",
       "       [ 2.97895398e-01, -1.09353765e-01],\n",
       "       [ 2.97895398e-01, -1.09353765e-01],\n",
       "       [ 2.97895398e-01, -1.09353765e-01],\n",
       "       [ 2.97895398e-01, -1.09353765e-01],\n",
       "       [-3.10890835e-01,  4.72919530e-01],\n",
       "       [-7.92846603e-01,  3.27351206e-01],\n",
       "       [-3.10890835e-01,  1.81782883e-01],\n",
       "       [-3.10890835e-01,  1.81782883e-01],\n",
       "       [-3.10890835e-01,  1.81782883e-01],\n",
       "       [ 1.43936959e+00, -9.82763709e-01],\n",
       "       [ 1.43936959e+00, -9.82763709e-01],\n",
       "       [ 1.31253912e+00, -9.82763709e-01],\n",
       "       [ 1.31253912e+00, -9.82763709e-01],\n",
       "       [-1.32553456e+00,  2.21973942e+00],\n",
       "       [-4.88453487e-01,  4.72919530e-01],\n",
       "       [-1.32553456e+00,  2.21973942e+00],\n",
       "       [-4.88453487e-01,  4.72919530e-01],\n",
       "       [-4.88453487e-01,  4.72919530e-01],\n",
       "       [-9.19677069e-01,  1.63746612e+00],\n",
       "       [-1.07962091e-01,  1.81782883e-01],\n",
       "       [-3.61623021e-01, -2.54922089e-01],\n",
       "       [-3.61623021e-01, -2.54922089e-01],\n",
       "       [ 1.45698840e-01, -9.82763709e-01],\n",
       "       [-9.19677069e-01,  1.05519283e+00],\n",
       "       [-4.12355207e-01,  3.62145586e-02],\n",
       "       [ 2.47163212e-01, -4.00490413e-01],\n",
       "       [ 2.47163212e-01, -4.00490413e-01],\n",
       "       [ 2.47163212e-01, -4.00490413e-01],\n",
       "       [ 2.47163212e-01, -4.00490413e-01],\n",
       "       [ 1.46473568e+00, -1.27390036e+00],\n",
       "       [ 1.46473568e+00, -1.27390036e+00],\n",
       "       [ 2.47163212e-01, -4.00490413e-01],\n",
       "       [ 1.41400349e+00, -8.37195385e-01],\n",
       "       [ 7.54485073e-01, -1.12833203e+00],\n",
       "       [ 4.42344677e-02, -5.46058737e-01],\n",
       "       [ 2.47163212e-01, -8.37195385e-01]])"
      ]
     },
     "execution_count": 125,
     "metadata": {},
     "output_type": "execute_result"
    }
   ],
   "source": [
    "x_scale"
   ]
  },
  {
   "cell_type": "markdown",
   "metadata": {},
   "source": [
    "<div style=\"font-family:courier\"> \n",
    "    <h1> Pipelines </h1> \n",
    "    <p> We can simplify our code by using the pipelines library </p>\n",
    "    <ul>\n",
    "        <li> There are many steps to getting a prediction:\n",
    "            <ul> \n",
    "                <li> Normalization </li>\n",
    "                <li> Polynomial transform </li> \n",
    "                <li> Linear Regression </li>\n",
    "            </ul>\n",
    "        </li>\n",
    "        <li> We a simplify the process using a pipeline. </li>\n",
    "        <li> Pipelines sequencially perform a series of transformations and the last step carries out a prediction </li>\n",
    "    </ul>\n",
    "</div>"
   ]
  },
  {
   "cell_type": "markdown",
   "metadata": {},
   "source": [
    "<div style=\"font-family:courier\"> \n",
    "<p> First we import all the libraries we need which include\n",
    "    <ul> \n",
    "        <li> from sklearn.preprocessing import PolynomialFeatures </li>\n",
    "        <li> from sklearn.linear_model import LinearRegression </li>\n",
    "        <li> from sklearn.preprocessing import StandardScaler </li>\n",
    "        <li> from sklearn.pipeline import Pipeline </li>\n",
    "    </ul>\n",
    "    \n",
    "</div>    "
   ]
  },
  {
   "cell_type": "code",
   "execution_count": 126,
   "metadata": {},
   "outputs": [],
   "source": [
    "from sklearn.pipeline import Pipeline"
   ]
  },
  {
   "cell_type": "markdown",
   "metadata": {},
   "source": [
    "<p style=\"font-family:courier\"> First we create a list of tuples. The first element in the tuple contains the name of the estimator model. The second elements contain model constructor </p>"
   ]
  },
  {
   "cell_type": "code",
   "execution_count": 127,
   "metadata": {},
   "outputs": [],
   "source": [
    "Input = [('scale', StandardScaler()), ('polynomial', PolynomialFeatures(degree=2)), ('mode', LinearRegression())]"
   ]
  },
  {
   "cell_type": "code",
   "execution_count": 128,
   "metadata": {},
   "outputs": [],
   "source": [
    "### Pipeline Constructor\n",
    "\n",
    "pipe = Pipeline(Input)"
   ]
  },
  {
   "cell_type": "markdown",
   "metadata": {},
   "source": [
    "<p style=\"font-family:courier\"> We can train the pipeline object </p>"
   ]
  },
  {
   "cell_type": "code",
   "execution_count": 129,
   "metadata": {},
   "outputs": [
    {
     "data": {
      "text/html": [
       "<style>#sk-container-id-3 {color: black;background-color: white;}#sk-container-id-3 pre{padding: 0;}#sk-container-id-3 div.sk-toggleable {background-color: white;}#sk-container-id-3 label.sk-toggleable__label {cursor: pointer;display: block;width: 100%;margin-bottom: 0;padding: 0.3em;box-sizing: border-box;text-align: center;}#sk-container-id-3 label.sk-toggleable__label-arrow:before {content: \"▸\";float: left;margin-right: 0.25em;color: #696969;}#sk-container-id-3 label.sk-toggleable__label-arrow:hover:before {color: black;}#sk-container-id-3 div.sk-estimator:hover label.sk-toggleable__label-arrow:before {color: black;}#sk-container-id-3 div.sk-toggleable__content {max-height: 0;max-width: 0;overflow: hidden;text-align: left;background-color: #f0f8ff;}#sk-container-id-3 div.sk-toggleable__content pre {margin: 0.2em;color: black;border-radius: 0.25em;background-color: #f0f8ff;}#sk-container-id-3 input.sk-toggleable__control:checked~div.sk-toggleable__content {max-height: 200px;max-width: 100%;overflow: auto;}#sk-container-id-3 input.sk-toggleable__control:checked~label.sk-toggleable__label-arrow:before {content: \"▾\";}#sk-container-id-3 div.sk-estimator input.sk-toggleable__control:checked~label.sk-toggleable__label {background-color: #d4ebff;}#sk-container-id-3 div.sk-label input.sk-toggleable__control:checked~label.sk-toggleable__label {background-color: #d4ebff;}#sk-container-id-3 input.sk-hidden--visually {border: 0;clip: rect(1px 1px 1px 1px);clip: rect(1px, 1px, 1px, 1px);height: 1px;margin: -1px;overflow: hidden;padding: 0;position: absolute;width: 1px;}#sk-container-id-3 div.sk-estimator {font-family: monospace;background-color: #f0f8ff;border: 1px dotted black;border-radius: 0.25em;box-sizing: border-box;margin-bottom: 0.5em;}#sk-container-id-3 div.sk-estimator:hover {background-color: #d4ebff;}#sk-container-id-3 div.sk-parallel-item::after {content: \"\";width: 100%;border-bottom: 1px solid gray;flex-grow: 1;}#sk-container-id-3 div.sk-label:hover label.sk-toggleable__label {background-color: #d4ebff;}#sk-container-id-3 div.sk-serial::before {content: \"\";position: absolute;border-left: 1px solid gray;box-sizing: border-box;top: 0;bottom: 0;left: 50%;z-index: 0;}#sk-container-id-3 div.sk-serial {display: flex;flex-direction: column;align-items: center;background-color: white;padding-right: 0.2em;padding-left: 0.2em;position: relative;}#sk-container-id-3 div.sk-item {position: relative;z-index: 1;}#sk-container-id-3 div.sk-parallel {display: flex;align-items: stretch;justify-content: center;background-color: white;position: relative;}#sk-container-id-3 div.sk-item::before, #sk-container-id-3 div.sk-parallel-item::before {content: \"\";position: absolute;border-left: 1px solid gray;box-sizing: border-box;top: 0;bottom: 0;left: 50%;z-index: -1;}#sk-container-id-3 div.sk-parallel-item {display: flex;flex-direction: column;z-index: 1;position: relative;background-color: white;}#sk-container-id-3 div.sk-parallel-item:first-child::after {align-self: flex-end;width: 50%;}#sk-container-id-3 div.sk-parallel-item:last-child::after {align-self: flex-start;width: 50%;}#sk-container-id-3 div.sk-parallel-item:only-child::after {width: 0;}#sk-container-id-3 div.sk-dashed-wrapped {border: 1px dashed gray;margin: 0 0.4em 0.5em 0.4em;box-sizing: border-box;padding-bottom: 0.4em;background-color: white;}#sk-container-id-3 div.sk-label label {font-family: monospace;font-weight: bold;display: inline-block;line-height: 1.2em;}#sk-container-id-3 div.sk-label-container {text-align: center;}#sk-container-id-3 div.sk-container {/* jupyter's `normalize.less` sets `[hidden] { display: none; }` but bootstrap.min.css set `[hidden] { display: none !important; }` so we also need the `!important` here to be able to override the default hidden behavior on the sphinx rendered scikit-learn.org. See: https://github.com/scikit-learn/scikit-learn/issues/21755 */display: inline-block !important;position: relative;}#sk-container-id-3 div.sk-text-repr-fallback {display: none;}</style><div id=\"sk-container-id-3\" class=\"sk-top-container\"><div class=\"sk-text-repr-fallback\"><pre>Pipeline(steps=[(&#x27;scale&#x27;, StandardScaler()),\n",
       "                (&#x27;polynomial&#x27;, PolynomialFeatures()),\n",
       "                (&#x27;mode&#x27;, LinearRegression())])</pre><b>In a Jupyter environment, please rerun this cell to show the HTML representation or trust the notebook. <br />On GitHub, the HTML representation is unable to render, please try loading this page with nbviewer.org.</b></div><div class=\"sk-container\" hidden><div class=\"sk-item sk-dashed-wrapped\"><div class=\"sk-label-container\"><div class=\"sk-label sk-toggleable\"><input class=\"sk-toggleable__control sk-hidden--visually\" id=\"sk-estimator-id-3\" type=\"checkbox\" ><label for=\"sk-estimator-id-3\" class=\"sk-toggleable__label sk-toggleable__label-arrow\">Pipeline</label><div class=\"sk-toggleable__content\"><pre>Pipeline(steps=[(&#x27;scale&#x27;, StandardScaler()),\n",
       "                (&#x27;polynomial&#x27;, PolynomialFeatures()),\n",
       "                (&#x27;mode&#x27;, LinearRegression())])</pre></div></div></div><div class=\"sk-serial\"><div class=\"sk-item\"><div class=\"sk-estimator sk-toggleable\"><input class=\"sk-toggleable__control sk-hidden--visually\" id=\"sk-estimator-id-4\" type=\"checkbox\" ><label for=\"sk-estimator-id-4\" class=\"sk-toggleable__label sk-toggleable__label-arrow\">StandardScaler</label><div class=\"sk-toggleable__content\"><pre>StandardScaler()</pre></div></div></div><div class=\"sk-item\"><div class=\"sk-estimator sk-toggleable\"><input class=\"sk-toggleable__control sk-hidden--visually\" id=\"sk-estimator-id-5\" type=\"checkbox\" ><label for=\"sk-estimator-id-5\" class=\"sk-toggleable__label sk-toggleable__label-arrow\">PolynomialFeatures</label><div class=\"sk-toggleable__content\"><pre>PolynomialFeatures()</pre></div></div></div><div class=\"sk-item\"><div class=\"sk-estimator sk-toggleable\"><input class=\"sk-toggleable__control sk-hidden--visually\" id=\"sk-estimator-id-6\" type=\"checkbox\" ><label for=\"sk-estimator-id-6\" class=\"sk-toggleable__label sk-toggleable__label-arrow\">LinearRegression</label><div class=\"sk-toggleable__content\"><pre>LinearRegression()</pre></div></div></div></div></div></div></div>"
      ],
      "text/plain": [
       "Pipeline(steps=[('scale', StandardScaler()),\n",
       "                ('polynomial', PolynomialFeatures()),\n",
       "                ('mode', LinearRegression())])"
      ]
     },
     "execution_count": 129,
     "metadata": {},
     "output_type": "execute_result"
    }
   ],
   "source": [
    "pipe.fit(cars[['horsepower', 'curb-weight', 'engine-size', 'highway-mpg']], Y)"
   ]
  },
  {
   "cell_type": "code",
   "execution_count": 130,
   "metadata": {},
   "outputs": [],
   "source": [
    "Yhat3 = pipe.predict(cars[['horsepower', 'curb-weight', 'engine-size', 'highway-mpg']])"
   ]
  },
  {
   "cell_type": "code",
   "execution_count": 131,
   "metadata": {},
   "outputs": [
    {
     "data": {
      "text/plain": [
       "11817.645400057276"
      ]
     },
     "execution_count": 131,
     "metadata": {},
     "output_type": "execute_result"
    }
   ],
   "source": [
    "pipe[2].intercept_"
   ]
  },
  {
   "cell_type": "code",
   "execution_count": 132,
   "metadata": {},
   "outputs": [
    {
     "data": {
      "text/plain": [
       "array([    0.        ,  1407.05023088,   544.38628612,  2991.9696558 ,\n",
       "       -1808.72739497,   812.70012131, -5973.97354019,    69.67441844,\n",
       "       -3611.08083119,   270.32217896,  2828.07029138, -1851.85101681,\n",
       "        -309.0085884 ,  1347.78744104,  -707.78296778])"
      ]
     },
     "execution_count": 132,
     "metadata": {},
     "output_type": "execute_result"
    }
   ],
   "source": [
    "pipe[2].coef_"
   ]
  },
  {
   "cell_type": "markdown",
   "metadata": {},
   "source": [
    "<div style=\"font-family:courier\"> \n",
    "    <h1> Measure for In-Sample Evaluation </h1>\n",
    "    <p> These measures are a way to numerically determine how good the model fits on dataset </p>\n",
    "    <ul> \n",
    "        <li> Two important measures to determine the fit of a model \n",
    "            <ul>\n",
    "                <li> Mean Squared Error (MSE) </li>\n",
    "                <li> R-Squared (R^2) </li> \n",
    "            </ul>\n",
    "        </li>\n",
    "    </ul>\n",
    "</div>"
   ]
  },
  {
   "cell_type": "markdown",
   "metadata": {},
   "source": [
    "<div style=\"font-family:courier\"> \n",
    "    <h2> Mean Squared Error (MSE) </h2>\n",
    "    <p> To measure the mse we take the difference between the actual value and the predicted value and square it </p>\n",
    "    <p> We do this for a sample we select. After which we will sum all the squared differences and then divide by the size of the sample </p>\n",
    "</div>"
   ]
  },
  {
   "cell_type": "markdown",
   "metadata": {},
   "source": [
    "<div style=\"font-family:courier\"> \n",
    "    <p> To find the MSE in python, we import mean_squared_error library from  sklearn.metrics </p>\n",
    "    <p> The MSE function takes in two parameters; 1. The actual value of the target variable and 2. the predicted value of the target variable </p>\n",
    "</div>"
   ]
  },
  {
   "cell_type": "code",
   "execution_count": 133,
   "metadata": {},
   "outputs": [],
   "source": [
    "from sklearn.metrics import mean_squared_error"
   ]
  },
  {
   "cell_type": "code",
   "execution_count": 134,
   "metadata": {
    "scrolled": true
   },
   "outputs": [
    {
     "data": {
      "text/plain": [
       "13788871.220920242"
      ]
     },
     "execution_count": 134,
     "metadata": {},
     "output_type": "execute_result"
    }
   ],
   "source": [
    "mean_squared_error(cars['price'], Yhat2)"
   ]
  },
  {
   "cell_type": "markdown",
   "metadata": {},
   "source": [
    "<div style=\"font-family:courier\"> \n",
    "    <h1> R-Squared (R^2) </h1>\n",
    "    <ul>\n",
    "        <li> It is also called the Coefficient of Determination</li>\n",
    "        <li> It is a measure to determine how close the data is to the fitted regression line</li>\n",
    "        <li> R^2: is the percentage of variation of the target variable (Y) that is explained by the linear model</li>\n",
    "        <li> Think about it as comparing a regression model to a simple model i.e the mean of the data points </li>\n",
    "    </ul>\n",
    "    <p> R^2 = (1 - [MSE of regression line/MSE of yhat])\n",
    "</div>"
   ]
  },
  {
   "cell_type": "markdown",
   "metadata": {},
   "source": [
    "<div style=\"font-family:courier\"> \n",
    "    <h1> R^2 </h1>\n",
    "    <ul>\n",
    "        <li> Generally the values of the R^2 are between 0 and 1. </li> \n",
    "        <li> We can calculate the R^2 as follows </li>\n",
    "    </ul>\n",
    "</div>"
   ]
  },
  {
   "cell_type": "code",
   "execution_count": 136,
   "metadata": {},
   "outputs": [
    {
     "data": {
      "text/plain": [
       "0.776210913272399"
      ]
     },
     "execution_count": 136,
     "metadata": {},
     "output_type": "execute_result"
    }
   ],
   "source": [
    "### After we train our linear model to fit thus, lm.fit(X, Y), we use the below code to check the R^2\n",
    "\n",
    "lm.score(Z, Y)"
   ]
  },
  {
   "cell_type": "markdown",
   "metadata": {},
   "source": [
    "<div style=\"font-family:courier\"> \n",
    "    <h1> Prediction and Decision Making </h1> \n",
    "    <p> Decision Making </p> \n",
    "    <p> To determine the best fit, we look at a combination of: </p> \n",
    "    <ul>\n",
    "        <li> Do the predicted values make sense </li>\n",
    "        <li> Visualization </li>\n",
    "        <li> Numerical measures for evaluation </li>\n",
    "        <li> Comparing between different models </li>\n",
    "    </ul>\n",
    "</div>"
   ]
  },
  {
   "cell_type": "markdown",
   "metadata": {},
   "source": [
    "<h2 style=\"font-family\"> Do the predicted values make sense </h2>"
   ]
  },
  {
   "cell_type": "code",
   "execution_count": 137,
   "metadata": {},
   "outputs": [
    {
     "data": {
      "text/html": [
       "<style>#sk-container-id-4 {color: black;background-color: white;}#sk-container-id-4 pre{padding: 0;}#sk-container-id-4 div.sk-toggleable {background-color: white;}#sk-container-id-4 label.sk-toggleable__label {cursor: pointer;display: block;width: 100%;margin-bottom: 0;padding: 0.3em;box-sizing: border-box;text-align: center;}#sk-container-id-4 label.sk-toggleable__label-arrow:before {content: \"▸\";float: left;margin-right: 0.25em;color: #696969;}#sk-container-id-4 label.sk-toggleable__label-arrow:hover:before {color: black;}#sk-container-id-4 div.sk-estimator:hover label.sk-toggleable__label-arrow:before {color: black;}#sk-container-id-4 div.sk-toggleable__content {max-height: 0;max-width: 0;overflow: hidden;text-align: left;background-color: #f0f8ff;}#sk-container-id-4 div.sk-toggleable__content pre {margin: 0.2em;color: black;border-radius: 0.25em;background-color: #f0f8ff;}#sk-container-id-4 input.sk-toggleable__control:checked~div.sk-toggleable__content {max-height: 200px;max-width: 100%;overflow: auto;}#sk-container-id-4 input.sk-toggleable__control:checked~label.sk-toggleable__label-arrow:before {content: \"▾\";}#sk-container-id-4 div.sk-estimator input.sk-toggleable__control:checked~label.sk-toggleable__label {background-color: #d4ebff;}#sk-container-id-4 div.sk-label input.sk-toggleable__control:checked~label.sk-toggleable__label {background-color: #d4ebff;}#sk-container-id-4 input.sk-hidden--visually {border: 0;clip: rect(1px 1px 1px 1px);clip: rect(1px, 1px, 1px, 1px);height: 1px;margin: -1px;overflow: hidden;padding: 0;position: absolute;width: 1px;}#sk-container-id-4 div.sk-estimator {font-family: monospace;background-color: #f0f8ff;border: 1px dotted black;border-radius: 0.25em;box-sizing: border-box;margin-bottom: 0.5em;}#sk-container-id-4 div.sk-estimator:hover {background-color: #d4ebff;}#sk-container-id-4 div.sk-parallel-item::after {content: \"\";width: 100%;border-bottom: 1px solid gray;flex-grow: 1;}#sk-container-id-4 div.sk-label:hover label.sk-toggleable__label {background-color: #d4ebff;}#sk-container-id-4 div.sk-serial::before {content: \"\";position: absolute;border-left: 1px solid gray;box-sizing: border-box;top: 0;bottom: 0;left: 50%;z-index: 0;}#sk-container-id-4 div.sk-serial {display: flex;flex-direction: column;align-items: center;background-color: white;padding-right: 0.2em;padding-left: 0.2em;position: relative;}#sk-container-id-4 div.sk-item {position: relative;z-index: 1;}#sk-container-id-4 div.sk-parallel {display: flex;align-items: stretch;justify-content: center;background-color: white;position: relative;}#sk-container-id-4 div.sk-item::before, #sk-container-id-4 div.sk-parallel-item::before {content: \"\";position: absolute;border-left: 1px solid gray;box-sizing: border-box;top: 0;bottom: 0;left: 50%;z-index: -1;}#sk-container-id-4 div.sk-parallel-item {display: flex;flex-direction: column;z-index: 1;position: relative;background-color: white;}#sk-container-id-4 div.sk-parallel-item:first-child::after {align-self: flex-end;width: 50%;}#sk-container-id-4 div.sk-parallel-item:last-child::after {align-self: flex-start;width: 50%;}#sk-container-id-4 div.sk-parallel-item:only-child::after {width: 0;}#sk-container-id-4 div.sk-dashed-wrapped {border: 1px dashed gray;margin: 0 0.4em 0.5em 0.4em;box-sizing: border-box;padding-bottom: 0.4em;background-color: white;}#sk-container-id-4 div.sk-label label {font-family: monospace;font-weight: bold;display: inline-block;line-height: 1.2em;}#sk-container-id-4 div.sk-label-container {text-align: center;}#sk-container-id-4 div.sk-container {/* jupyter's `normalize.less` sets `[hidden] { display: none; }` but bootstrap.min.css set `[hidden] { display: none !important; }` so we also need the `!important` here to be able to override the default hidden behavior on the sphinx rendered scikit-learn.org. See: https://github.com/scikit-learn/scikit-learn/issues/21755 */display: inline-block !important;position: relative;}#sk-container-id-4 div.sk-text-repr-fallback {display: none;}</style><div id=\"sk-container-id-4\" class=\"sk-top-container\"><div class=\"sk-text-repr-fallback\"><pre>LinearRegression()</pre><b>In a Jupyter environment, please rerun this cell to show the HTML representation or trust the notebook. <br />On GitHub, the HTML representation is unable to render, please try loading this page with nbviewer.org.</b></div><div class=\"sk-container\" hidden><div class=\"sk-item\"><div class=\"sk-estimator sk-toggleable\"><input class=\"sk-toggleable__control sk-hidden--visually\" id=\"sk-estimator-id-7\" type=\"checkbox\" checked><label for=\"sk-estimator-id-7\" class=\"sk-toggleable__label sk-toggleable__label-arrow\">LinearRegression</label><div class=\"sk-toggleable__content\"><pre>LinearRegression()</pre></div></div></div></div></div>"
      ],
      "text/plain": [
       "LinearRegression()"
      ]
     },
     "execution_count": 137,
     "metadata": {},
     "output_type": "execute_result"
    }
   ],
   "source": [
    "### First we train the model\n",
    "\n",
    "lm.fit(cars[['highway-mpg']], cars['price'])"
   ]
  },
  {
   "cell_type": "code",
   "execution_count": 138,
   "metadata": {},
   "outputs": [
    {
     "data": {
      "text/plain": [
       "array([13799.86154571])"
      ]
     },
     "execution_count": 138,
     "metadata": {},
     "output_type": "execute_result"
    }
   ],
   "source": [
    "### Let's predict the price of a car with 30 highway-mpg.\n",
    "\n",
    "lm.predict(np.array(30.0).reshape(-1,1))"
   ]
  },
  {
   "cell_type": "markdown",
   "metadata": {},
   "source": [
    "<h3> Now we want to see what the price would be for a car that has a highway-mpg of 30 </h3>\n",
    "<p> From the above code we can see that it is $ 13,799.86 and the value seems to make sense since its not negative </p>"
   ]
  },
  {
   "cell_type": "markdown",
   "metadata": {},
   "source": [
    "<h2> To generate a sequence of values in a specified range, we use numpy.arrange method to generate a sequesnce from 1 to 100 </h2>\n"
   ]
  },
  {
   "cell_type": "code",
   "execution_count": 139,
   "metadata": {},
   "outputs": [],
   "source": [
    "new_input = np.arange(1,101,1).reshape(-1,1)"
   ]
  },
  {
   "cell_type": "code",
   "execution_count": 140,
   "metadata": {},
   "outputs": [],
   "source": [
    "yhat4 = lm.predict(new_input)"
   ]
  },
  {
   "cell_type": "code",
   "execution_count": 141,
   "metadata": {},
   "outputs": [
    {
     "data": {
      "text/plain": [
       "array([ 36681.63352153,  35892.60690167,  35103.58028182,  34314.55366196,\n",
       "        33525.5270421 ,  32736.50042225,  31947.47380239,  31158.44718254,\n",
       "        30369.42056268,  29580.39394283,  28791.36732297,  28002.34070311,\n",
       "        27213.31408326,  26424.2874634 ,  25635.26084355,  24846.23422369,\n",
       "        24057.20760384,  23268.18098398,  22479.15436412,  21690.12774427,\n",
       "        20901.10112441,  20112.07450456,  19323.0478847 ,  18534.02126485,\n",
       "        17744.99464499,  16955.96802513,  16166.94140528,  15377.91478542,\n",
       "        14588.88816557,  13799.86154571,  13010.83492586,  12221.808306  ,\n",
       "        11432.78168614,  10643.75506629,   9854.72844643,   9065.70182658,\n",
       "         8276.67520672,   7487.64858686,   6698.62196701,   5909.59534715,\n",
       "         5120.5687273 ,   4331.54210744,   3542.51548759,   2753.48886773,\n",
       "         1964.46224787,   1175.43562802,    386.40900816,   -402.61761169,\n",
       "        -1191.64423155,  -1980.6708514 ,  -2769.69747126,  -3558.72409112,\n",
       "        -4347.75071097,  -5136.77733083,  -5925.80395068,  -6714.83057054,\n",
       "        -7503.85719039,  -8292.88381025,  -9081.91043011,  -9870.93704996,\n",
       "       -10659.96366982, -11448.99028967, -12238.01690953, -13027.04352938,\n",
       "       -13816.07014924, -14605.0967691 , -15394.12338895, -16183.15000881,\n",
       "       -16972.17662866, -17761.20324852, -18550.22986837, -19339.25648823,\n",
       "       -20128.28310809, -20917.30972794, -21706.3363478 , -22495.36296765,\n",
       "       -23284.38958751, -24073.41620736, -24862.44282722, -25651.46944708,\n",
       "       -26440.49606693, -27229.52268679, -28018.54930664, -28807.5759265 ,\n",
       "       -29596.60254636, -30385.62916621, -31174.65578607, -31963.68240592,\n",
       "       -32752.70902578, -33541.73564563, -34330.76226549, -35119.78888535,\n",
       "       -35908.8155052 , -36697.84212506, -37486.86874491, -38275.89536477,\n",
       "       -39064.92198462, -39853.94860448, -40642.97522434, -41432.00184419])"
      ]
     },
     "execution_count": 141,
     "metadata": {},
     "output_type": "execute_result"
    }
   ],
   "source": [
    "yhat4"
   ]
  },
  {
   "cell_type": "markdown",
   "metadata": {},
   "source": [
    "<h2> Visualization </h2>\n",
    "<p> We can observe if our model is a best fit by viaualizing the data </p>\n",
    "<ul>\n",
    "    <li> Regression plot </li>\n",
    "    <li> Residual plot </li>\n",
    "    <li> Distribution plot </li>\n",
    "</ul>"
   ]
  },
  {
   "cell_type": "markdown",
   "metadata": {},
   "source": [
    "<div style=\"font-family:courier\"> \n",
    "    <h2> Numerical measures for Evaluation </h2>\n",
    "    <ul>\n",
    "        <li> MSE- Mean Squared Error </li>\n",
    "        <li> R-Squared (R^2) </li>\n",
    "    </ul>\n",
    "</div>"
   ]
  },
  {
   "cell_type": "markdown",
   "metadata": {},
   "source": [
    "<div style=\"font-family:courier\"> \n",
    "    <h2> Comparing MLR and SLR </h2>\n",
    "    <ol>\n",
    "        <li> The MSE for a Multiple Linear Regression Model will be smaller than the MSE for a Simple Linear Regression Model, <code> since the errors of the data will decrease when more variables are included in the model </code> </li>\n",
    "        <li> Polynomial regression will also have a smaller MSE than the linear regular regression </li>\n",
    "    </ol>\n",
    "</div>"
   ]
  },
  {
   "cell_type": "markdown",
   "metadata": {},
   "source": [
    "<div style=\"font-family:courier\"> \n",
    "    <h1> Model Evaluation </h1>\n",
    "    <ul>\n",
    "        <li> In-sample evaluation tells us how well our model will fit the data used to train it </li> \n",
    "        <li> Problem?\n",
    "            <ul>\n",
    "                <li> It does not tell us how well the trained model can be used to predict new data </li>\n",
    "            </ul>\n",
    "        </li>\n",
    "        <li> Solution? \n",
    "            <ul> \n",
    "                <li> The solution is to spit our data up: </li>\n",
    "                <li> We use the In-sample data or training data to train the model </li>\n",
    "                <li> Out-of-sample evaluation data or test data to test the model</li>\n",
    "            </ul>\n",
    "        </li>    \n",
    "    </ul>    \n",
    "</div>"
   ]
  },
  {
   "cell_type": "markdown",
   "metadata": {},
   "source": [
    "<div style=\"font-family:courier\"> \n",
    "    <h2> Training/Testing Sets </h2>\n",
    "    <ul>\n",
    "    <li> Seperating our data into training and testing set is an important part of Model evaluation. We use the test data to get an idea of how our model will perform in the real world </li>\n",
    "    <li> Usually when we split a dataset, the larger portion of data is used for training and the smaller portion of data is used for testing. For example, we can use 70% of the data for training and the remaining 20% for testing </li>\n",
    "        <li> We use the training set to build a model and discover predictive relationship </li>\n",
    "        <li> We the use a testing set to evaluate the performance of the predictive model </li>\n",
    "        <li> when we have completed our model, we should use all the data to train the model to get the best performance </li>\n",
    "    </ul>\n",
    "</div>"
   ]
  },
  {
   "cell_type": "markdown",
   "metadata": {},
   "source": [
    "<div style=\"font-family:courier\">\n",
    "    <h3> Function train_test_split() </h3>\n",
    "    <p> A popular function of the scikit learn library can help us to split data into random train and test subsets <code> from sklearn.model_selection import train_test_split </code> </p>\n",
    "</div>"
   ]
  },
  {
   "cell_type": "code",
   "execution_count": 142,
   "metadata": {},
   "outputs": [],
   "source": [
    "from sklearn.model_selection import train_test_split"
   ]
  },
  {
   "cell_type": "code",
   "execution_count": 143,
   "metadata": {},
   "outputs": [],
   "source": [
    "X_data = cars[[\"horsepower\", \"curb-weight\", \"engine-size\", \"highway-mpg\"]]\n",
    "Y_data = cars[['price']]"
   ]
  },
  {
   "cell_type": "code",
   "execution_count": 144,
   "metadata": {},
   "outputs": [],
   "source": [
    "### We can use to foolowing code to split data into training and testing data\n",
    "\n",
    "x_train, x_test, y_train, y_test = train_test_split(X_data, Y_data, test_size=0.3, random_state=0)"
   ]
  },
  {
   "cell_type": "markdown",
   "metadata": {},
   "source": [
    "<ul>\n",
    "    <li> X_data: features or independent variables</li>\n",
    "    <li> Y_data: dataset target i.e price </li>\n",
    "    <li> x_train, y_train: parts of available data as training data </li>\n",
    "    <li> x_test, y_test: parts of available data as testing set</li>\n",
    "    <li> test_size: percentage of the data for tesing (here 30%) </li>\n",
    "    <li> random_state: number generator used for random sampling </li>\n",
    "</ul>"
   ]
  },
  {
   "cell_type": "markdown",
   "metadata": {},
   "source": [
    "<div style=\"font-family:courier\"> \n",
    "    <h2> Generalization Performance </h2> \n",
    "    <ul> \n",
    "        <li> Generilization error is a measure of how well our data does at predicting previously unseen data </li>\n",
    "        <li> The error we obtaing using our testing data is an approximation of this eror </li>\n",
    "    </ul>\n",
    "    <p> Using lots of training data will give us an accurate means to determine how well our model will perform in the real world </p>\n",
    "    <p> If we run our model randomly over different randomly generated train and test data, we will notice that the generalization error of each trial are different but all close to a general error. The best way to tackle this problem is by using <code> Cross Validation </code> </p>\n",
    "</div>"
   ]
  },
  {
   "cell_type": "markdown",
   "metadata": {},
   "source": [
    "<div style=\"font-family:courier\"> \n",
    "    <h1> Cross Validation </h1>\n",
    "    <ul> \n",
    "        <li> Most common out-of-sample evaluation metrics</li>\n",
    "        <li> More effective use of data (each observation is used for both training and testing) </li>\n",
    "    </ul>\n",
    "    <p> In this method, the dataset is split into k equal groups, each group is referred to as a fold. e.g 4 folds. Some of the folds can be used as training set which we use to train the model. And the remaining parts are used as a test set which we use to test the model. In this example, we can use one fold for testing and three folds for training. This is repeated until each partition is used for both training and testing. At the end, we use the average result as the estimate of our out-of-sample error. The Evaluation metric depends on the model, for example the R^2 </p>\n",
    "    \n",
    "</div>"
   ]
  },
  {
   "cell_type": "markdown",
   "metadata": {},
   "source": [
    "<div style=\"font-family:courier\"> \n",
    "    <p> The simplest way to apply Cross Validation is to call the <code> cross_val_score() </code>. This method is imported from scikit learn library</p>\n",
    "    <code> from sklearn.model_selection import cross_val_score </code>\n",
    "</div>"
   ]
  },
  {
   "cell_type": "code",
   "execution_count": 145,
   "metadata": {},
   "outputs": [],
   "source": [
    "from sklearn.model_selection import cross_val_score "
   ]
  },
  {
   "cell_type": "code",
   "execution_count": 146,
   "metadata": {},
   "outputs": [],
   "source": [
    "### We then use the function cross_val_score() \n",
    "\n",
    "scores = cross_val_score(lm,cars[[\"horsepower\", \"curb-weight\", \"engine-size\", \"highway-mpg\"]], cars[['price']], cv=3)\n",
    "\n",
    "## the first input parameter is the kind of model we are using to do the cross validation.\n",
    "### In this case, we use the linear regression model stored in the object lm\n",
    "## x_data: the predictor variable data\n",
    "## y_data: the target variable data\n",
    "## cv: to manage the number of partitions"
   ]
  },
  {
   "cell_type": "markdown",
   "metadata": {},
   "source": [
    "<p> The array values stored in the object \"scores\" represents the R^2 of each model </p>"
   ]
  },
  {
   "cell_type": "code",
   "execution_count": 147,
   "metadata": {},
   "outputs": [
    {
     "data": {
      "text/plain": [
       "0.6730380952878471"
      ]
     },
     "execution_count": 147,
     "metadata": {},
     "output_type": "execute_result"
    }
   ],
   "source": [
    "np.mean(scores)"
   ]
  },
  {
   "cell_type": "markdown",
   "metadata": {},
   "source": [
    "<div style=\"font-family:courier\">\n",
    "    <h1> Function cross_val_predict() </h1>\n",
    "    <ul>\n",
    "        <li> It returns the prediction that was obtained for each element when it was in the test set </li>\n",
    "        <li> Has a similar interface to cross_val_score() </li>\n",
    "    </ul>\n",
    "</div>"
   ]
  },
  {
   "cell_type": "code",
   "execution_count": 148,
   "metadata": {},
   "outputs": [],
   "source": [
    "from sklearn.model_selection import cross_val_predict "
   ]
  },
  {
   "cell_type": "code",
   "execution_count": 149,
   "metadata": {},
   "outputs": [],
   "source": [
    "yhat5 = cross_val_predict(lm, cars[[\"horsepower\", \"curb-weight\", \"engine-size\", \"highway-mpg\"]], cars[['price']], cv=3)"
   ]
  },
  {
   "cell_type": "markdown",
   "metadata": {},
   "source": [
    "<div style=\"font-family:courier\"> \n",
    "    <h1> Overfitting, Underfitting and Model Selection </h1>\n",
    "    <p> Underfitting: The model is too simple to fit the data </p>\n",
    "    <p> Overfitting: Here the model is to flexible that it fits the noice but those not fit the data. </p> \n",
    "    <p> The training error decreases with the order of the polynomial </p>\n",
    "    <p> The test MSE is a better means of estimating the error of a polynomial. We select the order that minimizes the test error. Anything on the left of that order is consider underfitting and anything on the right is considered overfitting</p>\n",
    "</div>"
   ]
  },
  {
   "cell_type": "markdown",
   "metadata": {},
   "source": [
    "<div style=\"font-family\"> \n",
    "    <p> WE can calculate the R^2 of different order polynomials as follows </p>\n",
    "</div>"
   ]
  },
  {
   "cell_type": "code",
   "execution_count": 150,
   "metadata": {},
   "outputs": [],
   "source": [
    "Rsqu_test = []\n",
    "order = [1,2,3,4]\n",
    "\n",
    "for n in order:\n",
    "    pr=PolynomialFeatures(degree=n)\n",
    "    x_train_pr = pr.fit_transform(x_train[['horsepower']])\n",
    "    x_test_pr = pr.fit_transform(x_test[['horsepower']])\n",
    "    lm.fit(x_train_pr, y_train)\n",
    "    Rsqu_test.append(lm.score(x_test_pr, y_test))"
   ]
  },
  {
   "cell_type": "code",
   "execution_count": 151,
   "metadata": {},
   "outputs": [],
   "source": [
    "lk = []\n",
    "\n",
    "lk = pd.DataFrame(order)\n",
    "\n",
    "lk['Rsqu_test'] = Rsqu_test\n",
    "\n",
    "lk = lk.set_index(lk[0])\n",
    "\n",
    "lk.rename(columns = {0 :'order'}, inplace = True)"
   ]
  },
  {
   "cell_type": "code",
   "execution_count": 152,
   "metadata": {},
   "outputs": [
    {
     "data": {
      "text/plain": [
       "Text(0, 0.5, 'R^2')"
      ]
     },
     "execution_count": 152,
     "metadata": {},
     "output_type": "execute_result"
    },
    {
     "data": {
      "image/png": "[encoded data removed]",
      "text/plain": [
       "<Figure size 432x288 with 1 Axes>"
      ]
     },
     "metadata": {
      "needs_background": "light"
     },
     "output_type": "display_data"
    }
   ],
   "source": [
    "plt.plot(lk['order'], lk['Rsqu_test'])\n",
    "plt.xlabel('Order')\n",
    "plt.ylabel('R^2')"
   ]
  },
  {
   "cell_type": "markdown",
   "metadata": {},
   "source": [
    "<p> Note: The best order for our polynomial equation is 4. The closer the R^2 is to 1, the more accurate the model</p>"
   ]
  },
  {
   "cell_type": "markdown",
   "metadata": {},
   "source": [
    "<div style=\"font-family:courier\"> \n",
    "    <h1> Ridge Regression </h1>\n",
    "    <p> RR prevents overfitting </p>\n",
    "    <p> When dealing with high order polynomials, we see that the estimated polynomial coefficients have a very high magnitude. Ridge Regression controls the magnitude of these polynomial coefficients by introducing the parameter <code> alpha </code> </p>\n",
    "    <p> Alpha is a parameter we set before fitting of training the model. Different values of alpha changes the model</p>\n",
    "</div>"
   ]
  },
  {
   "cell_type": "markdown",
   "metadata": {},
   "source": [
    "<p style=\"font-family:courier\"> In order to select alpha we use cross validation. \n",
    "To make a prediction using Ridge Regression:</p>"
   ]
  },
  {
   "cell_type": "code",
   "execution_count": 153,
   "metadata": {},
   "outputs": [],
   "source": [
    "from sklearn.linear_model import Ridge"
   ]
  },
  {
   "cell_type": "code",
   "execution_count": 154,
   "metadata": {},
   "outputs": [],
   "source": [
    "RidgeModel = Ridge(alpha=0.1)\n",
    "RidgeModel.fit(X,Y)\n",
    "Yhat6 = RidgeModel.predict(X)"
   ]
  },
  {
   "cell_type": "code",
   "execution_count": 155,
   "metadata": {},
   "outputs": [
    {
     "data": {
      "text/plain": [
       "array([-789.01846405])"
      ]
     },
     "execution_count": 155,
     "metadata": {},
     "output_type": "execute_result"
    }
   ],
   "source": [
    "RidgeModel.coef_"
   ]
  },
  {
   "cell_type": "code",
   "execution_count": 156,
   "metadata": {},
   "outputs": [
    {
     "data": {
      "text/plain": [
       "37470.40934029776"
      ]
     },
     "execution_count": 156,
     "metadata": {},
     "output_type": "execute_result"
    }
   ],
   "source": [
    "RidgeModel.intercept_"
   ]
  },
  {
   "cell_type": "code",
   "execution_count": 157,
   "metadata": {},
   "outputs": [
    {
     "data": {
      "text/plain": [
       "0.4768257894287383"
      ]
     },
     "execution_count": 157,
     "metadata": {},
     "output_type": "execute_result"
    }
   ],
   "source": [
    "RidgeModel.score(X,Y)"
   ]
  },
  {
   "cell_type": "markdown",
   "metadata": {},
   "source": [
    "<p style=\"font-family:courier\"> Note: We should always look for the value of alpha that maximizes the R^2 </p>"
   ]
  },
  {
   "cell_type": "markdown",
   "metadata": {},
   "source": [
    "<div style=\"font-family:courier\"> \n",
    "    <h1> Grid Search </h1>\n",
    "    <p> Grid search allows us to scan through multiple free parameters with few lines of code </p>\n",
    "    </div>"
   ]
  },
  {
   "cell_type": "markdown",
   "metadata": {},
   "source": [
    "<div style=\"font-family:courier\">\n",
    "    <h2> Hyperparameters </h2> \n",
    "    <ul>\n",
    "        <li> Parameters like the alpha from the Ridge Regreeion topic is a Hyperparameter and they are not part of the fitting or training pocess. </li>\n",
    "        <li> SCikit learn has a means of automatically iterating over these hyperparameters using cross-validation called <code> GRID SEARCH </code>\n",
    "    </ul>\n",
    "    <p> Grid search takes the model or objects you would like to train and different values of the hyperparameters. It then calculates the Mean Square Error or R^2 for various hyperparameter values. Allowing you to choose the best values.\n",
    "    </div>"
   ]
  },
  {
   "cell_type": "markdown",
   "metadata": {},
   "source": [
    "<div style=\"font-family:courier\">\n",
    "    <p> After obtaining different errors from the different hyperparameter values. We select the hyperparameter that minimizes the MSE or that maximizes the R^2 </p> \n",
    "    <h2> Process </h2>\n",
    "    <p> To select the righte values for the hyperparameters, we split our dataset into three parts;\n",
    "        <ul> \n",
    "            <li> Training set: We train the model for different parameters.  </li>\n",
    "            <li> Validation set: We select the hyperparameter that minimizes the MSE or maxamizes the R^2 on the validation set. </li>\n",
    "            <li> Test set: We finally test our model performance using the test data. </li>\n",
    "        </ul>\n",
    "    </div>"
   ]
  },
  {
   "cell_type": "markdown",
   "metadata": {},
   "source": [
    "<div style=\"font-family:courier\"> \n",
    "    <p> In the module, we will focus on the hyperparameters alpha and the normalization parameter. </p>\n",
    "    <p> The grid search takes on the scoring method(in this case R^2), number of folds, the model or object, and the free parameter value.</div>"
   ]
  },
  {
   "cell_type": "code",
   "execution_count": 158,
   "metadata": {},
   "outputs": [],
   "source": [
    "### We import the following \n",
    "\n",
    "from sklearn.linear_model import Ridge\n",
    "from sklearn.model_selection import GridSearchCV"
   ]
  },
  {
   "cell_type": "code",
   "execution_count": 159,
   "metadata": {},
   "outputs": [
    {
     "data": {
      "text/plain": [
       "array([0.66688746, 0.6668878 , 0.66689085, 0.6669211 , 0.66720135,\n",
       "       0.6686912 , 0.66774105, 0.63671504])"
      ]
     },
     "execution_count": 159,
     "metadata": {},
     "output_type": "execute_result"
    }
   ],
   "source": [
    "parameters = [{'alpha':[0.001, 0.1, 1, 10, 100, 1000, 10000, 100000]}]\n",
    "\n",
    "RR = Ridge()\n",
    "\n",
    "Grid1 = GridSearchCV(RR, parameters, cv=4)\n",
    "\n",
    "Grid1.fit(X_data[['horsepower', 'curb-weight', 'engine-size', 'highway-mpg']], Y_data)\n",
    "\n",
    "Grid1.best_estimator_\n",
    "\n",
    "scores = Grid1.cv_results_\n",
    "scores['mean_test_score']"
   ]
  },
  {
   "cell_type": "markdown",
   "metadata": {},
   "source": [
    "<div style=\"font-family:courier\"> \n",
    "    <p> For example, ridge regression has the option to normalize the data. </p>\n",
    "    </div>"
   ]
  },
  {
   "cell_type": "code",
   "execution_count": 160,
   "metadata": {},
   "outputs": [],
   "source": [
    "parameter2 = [{'alpha':[0.001, 0.1, 1, 10, 100], 'normalize':[True, False]}]\n",
    "\n",
    "Grid2 = GridSearchCV(RR, parameter2, cv=4)\n",
    "\n",
    "Grid2.fit(X_data[['horsepower', 'curb-weight', 'engine-size', 'highway-mpg']], Y_data)\n",
    "\n",
    "Grid2.best_estimator_\n",
    "\n",
    "scores2 = Grid2.cv_results_\n"
   ]
  },
  {
   "cell_type": "code",
   "execution_count": 161,
   "metadata": {},
   "outputs": [
    {
     "name": "stdout",
     "output_type": "stream",
     "text": [
      "{'alpha': 0.001, 'normalize': True} R^2 on test data: 0.6672301804026002\n",
      "{'alpha': 0.001, 'normalize': False} R^2 on test data: 0.6668874609276482\n",
      "{'alpha': 0.1, 'normalize': True} R^2 on test data: 0.6813117004545981\n",
      "{'alpha': 0.1, 'normalize': False} R^2 on test data: 0.666887796588487\n",
      "{'alpha': 1, 'normalize': True} R^2 on test data: 0.6596239055546873\n",
      "{'alpha': 1, 'normalize': False} R^2 on test data: 0.6668908456335806\n",
      "{'alpha': 10, 'normalize': True} R^2 on test data: 0.29974457710339847\n",
      "{'alpha': 10, 'normalize': False} R^2 on test data: 0.6669210981718281\n",
      "{'alpha': 100, 'normalize': True} R^2 on test data: 0.00937304898338559\n",
      "{'alpha': 100, 'normalize': False} R^2 on test data: 0.6672013500783018\n"
     ]
    }
   ],
   "source": [
    "## To print out the individual scores we can do \n",
    "\n",
    "for param, mean_val in zip(scores2['params'],scores2['mean_test_score']):#,scores2['mean_train_score']):\n",
    "    print(param, \"R^2 on test data:\", mean_val)#, \"R^2 on train data:\", mean_test)"
   ]
  }
 ],
 "metadata": {
  "kernelspec": {
   "display_name": "Python 3 (ipykernel)",
   "language": "python",
   "name": "python3"
  },
  "language_info": {
   "codemirror_mode": {
    "name": "ipython",
    "version": 3
   },
   "file_extension": ".py",
   "mimetype": "text/x-python",
   "name": "python",
   "nbconvert_exporter": "python",
   "pygments_lexer": "ipython3",
   "version": "3.10.0"
  },
  "vscode": {
   "interpreter": {
    "hash": "0d72b21489300652f2337cd7f80c57cc00ce6bbc92cf98d285c178d0a8ced433"
   }
  }
 },
 "nbformat": 4,
 "nbformat_minor": 4
}
